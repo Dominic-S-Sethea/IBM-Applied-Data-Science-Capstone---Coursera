{
  "metadata": {
    "kernelspec": {
      "name": "python",
      "display_name": "Python (Pyodide)",
      "language": "python"
    },
    "language_info": {
      "codemirror_mode": {
        "name": "python",
        "version": 3
      },
      "file_extension": ".py",
      "mimetype": "text/x-python",
      "name": "python",
      "nbconvert_exporter": "python",
      "pygments_lexer": "ipython3",
      "version": "3.8"
    },
    "prev_pub_hash": "0f9db842b41c859223722809f8be602f5df9334348bd206b11e3af58c30eb345"
  },
  "nbformat_minor": 4,
  "nbformat": 4,
  "cells": [
    {
      "cell_type": "markdown",
      "source": "<p style=\"text-align:center\">\n    <a href=\"https://skills.network/?utm_medium=Exinfluencer&utm_source=Exinfluencer&utm_content=000026UJ&utm_term=10006555&utm_id=NA-SkillsNetwork-Channel-SkillsNetworkCoursesIBMDS0321ENSkillsNetwork26802033-2022-01-01\" target=\"_blank\">\n    <img src=\"https://cf-courses-data.s3.us.cloud-object-storage.appdomain.cloud/assets/logos/SN_web_lightmode.png\" width=\"200\" alt=\"Skills Network Logo\">\n    </a>\n</p>\n",
      "metadata": {}
    },
    {
      "cell_type": "markdown",
      "source": "# **Hands-on Lab: Interactive Visual Analytics with Folium**\n",
      "metadata": {}
    },
    {
      "cell_type": "markdown",
      "source": "Estimated time needed: **40** minutes\n",
      "metadata": {}
    },
    {
      "cell_type": "markdown",
      "source": "The launch success rate may depend on many factors such as payload mass, orbit type, and so on. It may also depend on the location and proximities of a launch site, i.e., the initial position of rocket trajectories. Finding an optimal location for building a launch site certainly involves many factors and hopefully we could discover some of the factors by analyzing the existing launch site locations.\n",
      "metadata": {}
    },
    {
      "cell_type": "markdown",
      "source": "In the previous exploratory data analysis labs, you have visualized the SpaceX launch dataset using `matplotlib` and `seaborn` and discovered some preliminary correlations between the launch site and success rates. In this lab, you will be performing more interactive visual analytics using `Folium`.\n",
      "metadata": {}
    },
    {
      "cell_type": "markdown",
      "source": "## Objectives\n",
      "metadata": {}
    },
    {
      "cell_type": "markdown",
      "source": "This lab contains the following tasks:\n\n*   **TASK 1:** Mark all launch sites on a map\n*   **TASK 2:** Mark the success/failed launches for each site on the map\n*   **TASK 3:** Calculate the distances between a launch site to its proximities\n\nAfter completed the above tasks, you should be able to find some geographical patterns about launch sites.\n",
      "metadata": {}
    },
    {
      "cell_type": "markdown",
      "source": "Let's first import required Python packages for this lab:\n",
      "metadata": {}
    },
    {
      "cell_type": "code",
      "source": "import piplite\nawait piplite.install(['folium'])\nawait piplite.install(['pandas'])",
      "metadata": {
        "trusted": true
      },
      "outputs": [],
      "execution_count": 10
    },
    {
      "cell_type": "code",
      "source": "import folium\nimport pandas as pd",
      "metadata": {
        "trusted": true
      },
      "outputs": [],
      "execution_count": 8
    },
    {
      "cell_type": "code",
      "source": "# Import folium MarkerCluster plugin\nfrom folium.plugins import MarkerCluster\n# Import folium MousePosition plugin\nfrom folium.plugins import MousePosition\n# Import folium DivIcon plugin\nfrom folium.features import DivIcon",
      "metadata": {
        "trusted": true
      },
      "outputs": [],
      "execution_count": 11
    },
    {
      "cell_type": "markdown",
      "source": "If you need to refresh your memory about folium, you may download and refer to this previous folium lab:\n",
      "metadata": {}
    },
    {
      "cell_type": "markdown",
      "source": "[Generating Maps with Python](https://cf-courses-data.s3.us.cloud-object-storage.appdomain.cloud/IBMDeveloperSkillsNetwork-DV0101EN-SkillsNetwork/labs/v4/DV0101EN-Exercise-Generating-Maps-in-Python.ipynb)\n",
      "metadata": {}
    },
    {
      "cell_type": "code",
      "source": "## Task 1: Mark all launch sites on a map\nimport folium\n\n# Coordinates for NASA Johnson Space Center (center of the map)\nnasa_coordinate = [29.559684888503615, -95.0830971930759]\n\n# Initialize the map\nsite_map = folium.Map(location=nasa_coordinate, zoom_start=5)\n\n# Example launch sites data: list of tuples (latitude, longitude, site name)\nlaunch_sites = [\n    (28.5623, -80.5774, 'Cape Canaveral'),\n    (34.6329, -120.6108, 'Vandenberg Air Force Base'),\n    (28.5622, -80.5773, 'Kennedy Space Center'),\n    (31.2540, -110.8650, 'Launch Site 4')\n]\n\n# Add a Circle or Marker for each launch site\nfor lat, lon, site_name in launch_sites:\n    folium.Circle(\n        location=[lat, lon],\n        radius=500,\n        color='blue',\n        fill=True,\n        fill_color='blue',\n        popup=site_name\n    ).add_to(site_map)\n\n# Display the map\nsite_map",
      "metadata": {
        "trusted": true
      },
      "outputs": [
        {
          "execution_count": 12,
          "output_type": "execute_result",
          "data": {
            "text/plain": "<folium.folium.Map at 0x1126e08>",
            "text/html": "<div style=\"width:100%;\"><div style=\"position:relative;width:100%;height:0;padding-bottom:60%;\"><span style=\"color:#565656\">Make this Notebook Trusted to load map: File -> Trust Notebook</span><iframe srcdoc=\"&lt;!DOCTYPE html&gt;\n&lt;html&gt;\n&lt;head&gt;\n    \n    &lt;meta http-equiv=&quot;content-type&quot; content=&quot;text/html; charset=UTF-8&quot; /&gt;\n    &lt;script src=&quot;https://cdn.jsdelivr.net/npm/leaflet@1.9.3/dist/leaflet.js&quot;&gt;&lt;/script&gt;\n    &lt;script src=&quot;https://code.jquery.com/jquery-3.7.1.min.js&quot;&gt;&lt;/script&gt;\n    &lt;script src=&quot;https://cdn.jsdelivr.net/npm/bootstrap@5.2.2/dist/js/bootstrap.bundle.min.js&quot;&gt;&lt;/script&gt;\n    &lt;script src=&quot;https://cdnjs.cloudflare.com/ajax/libs/Leaflet.awesome-markers/2.0.2/leaflet.awesome-markers.js&quot;&gt;&lt;/script&gt;\n    &lt;link rel=&quot;stylesheet&quot; href=&quot;https://cdn.jsdelivr.net/npm/leaflet@1.9.3/dist/leaflet.css&quot;/&gt;\n    &lt;link rel=&quot;stylesheet&quot; href=&quot;https://cdn.jsdelivr.net/npm/bootstrap@5.2.2/dist/css/bootstrap.min.css&quot;/&gt;\n    &lt;link rel=&quot;stylesheet&quot; href=&quot;https://netdna.bootstrapcdn.com/bootstrap/3.0.0/css/bootstrap-glyphicons.css&quot;/&gt;\n    &lt;link rel=&quot;stylesheet&quot; href=&quot;https://cdn.jsdelivr.net/npm/@fortawesome/fontawesome-free@6.2.0/css/all.min.css&quot;/&gt;\n    &lt;link rel=&quot;stylesheet&quot; href=&quot;https://cdnjs.cloudflare.com/ajax/libs/Leaflet.awesome-markers/2.0.2/leaflet.awesome-markers.css&quot;/&gt;\n    &lt;link rel=&quot;stylesheet&quot; href=&quot;https://cdn.jsdelivr.net/gh/python-visualization/folium/folium/templates/leaflet.awesome.rotate.min.css&quot;/&gt;\n    \n            &lt;meta name=&quot;viewport&quot; content=&quot;width=device-width,\n                initial-scale=1.0, maximum-scale=1.0, user-scalable=no&quot; /&gt;\n            &lt;style&gt;\n                #map_29679fbdf7e18fb2bcc8c97836e6d827 {\n                    position: relative;\n                    width: 100.0%;\n                    height: 100.0%;\n                    left: 0.0%;\n                    top: 0.0%;\n                }\n                .leaflet-container { font-size: 1rem; }\n            &lt;/style&gt;\n\n            &lt;style&gt;html, body {\n                width: 100%;\n                height: 100%;\n                margin: 0;\n                padding: 0;\n            }\n            &lt;/style&gt;\n\n            &lt;style&gt;#map {\n                position:absolute;\n                top:0;\n                bottom:0;\n                right:0;\n                left:0;\n                }\n            &lt;/style&gt;\n\n            &lt;script&gt;\n                L_NO_TOUCH = false;\n                L_DISABLE_3D = false;\n            &lt;/script&gt;\n\n        \n&lt;/head&gt;\n&lt;body&gt;\n    \n    \n            &lt;div class=&quot;folium-map&quot; id=&quot;map_29679fbdf7e18fb2bcc8c97836e6d827&quot; &gt;&lt;/div&gt;\n        \n&lt;/body&gt;\n&lt;script&gt;\n    \n    \n            var map_29679fbdf7e18fb2bcc8c97836e6d827 = L.map(\n                &quot;map_29679fbdf7e18fb2bcc8c97836e6d827&quot;,\n                {\n                    center: [29.559684888503615, -95.0830971930759],\n                    crs: L.CRS.EPSG3857,\n                    ...{\n  &quot;zoom&quot;: 5,\n  &quot;zoomControl&quot;: true,\n  &quot;preferCanvas&quot;: false,\n}\n\n                }\n            );\n\n            \n\n        \n    \n            var tile_layer_b0767372d98b9a5621102c411e000798 = L.tileLayer(\n                &quot;https://tile.openstreetmap.org/{z}/{x}/{y}.png&quot;,\n                {\n  &quot;minZoom&quot;: 0,\n  &quot;maxZoom&quot;: 19,\n  &quot;maxNativeZoom&quot;: 19,\n  &quot;noWrap&quot;: false,\n  &quot;attribution&quot;: &quot;\\u0026copy; \\u003ca href=\\&quot;https://www.openstreetmap.org/copyright\\&quot;\\u003eOpenStreetMap\\u003c/a\\u003e contributors&quot;,\n  &quot;subdomains&quot;: &quot;abc&quot;,\n  &quot;detectRetina&quot;: false,\n  &quot;tms&quot;: false,\n  &quot;opacity&quot;: 1,\n}\n\n            );\n        \n    \n            tile_layer_b0767372d98b9a5621102c411e000798.addTo(map_29679fbdf7e18fb2bcc8c97836e6d827);\n        \n    \n            var circle_592ec051c9857a4c41dd6f702e030348 = L.circle(\n                [28.5623, -80.5774],\n                {&quot;bubblingMouseEvents&quot;: true, &quot;color&quot;: &quot;blue&quot;, &quot;dashArray&quot;: null, &quot;dashOffset&quot;: null, &quot;fill&quot;: true, &quot;fillColor&quot;: &quot;blue&quot;, &quot;fillOpacity&quot;: 0.2, &quot;fillRule&quot;: &quot;evenodd&quot;, &quot;lineCap&quot;: &quot;round&quot;, &quot;lineJoin&quot;: &quot;round&quot;, &quot;opacity&quot;: 1.0, &quot;radius&quot;: 500, &quot;stroke&quot;: true, &quot;weight&quot;: 3}\n            ).addTo(map_29679fbdf7e18fb2bcc8c97836e6d827);\n        \n    \n        var popup_d18d3083db0fa5403b6321a5b293ec49 = L.popup({\n  &quot;maxWidth&quot;: &quot;100%&quot;,\n});\n\n        \n            \n                var html_4d3458429719196954ce4b6f4097ea5f = $(`&lt;div id=&quot;html_4d3458429719196954ce4b6f4097ea5f&quot; style=&quot;width: 100.0%; height: 100.0%;&quot;&gt;Cape Canaveral&lt;/div&gt;`)[0];\n                popup_d18d3083db0fa5403b6321a5b293ec49.setContent(html_4d3458429719196954ce4b6f4097ea5f);\n            \n        \n\n        circle_592ec051c9857a4c41dd6f702e030348.bindPopup(popup_d18d3083db0fa5403b6321a5b293ec49)\n        ;\n\n        \n    \n    \n            var circle_9164d3792b7ded0667fb9c859dd8fd6c = L.circle(\n                [34.6329, -120.6108],\n                {&quot;bubblingMouseEvents&quot;: true, &quot;color&quot;: &quot;blue&quot;, &quot;dashArray&quot;: null, &quot;dashOffset&quot;: null, &quot;fill&quot;: true, &quot;fillColor&quot;: &quot;blue&quot;, &quot;fillOpacity&quot;: 0.2, &quot;fillRule&quot;: &quot;evenodd&quot;, &quot;lineCap&quot;: &quot;round&quot;, &quot;lineJoin&quot;: &quot;round&quot;, &quot;opacity&quot;: 1.0, &quot;radius&quot;: 500, &quot;stroke&quot;: true, &quot;weight&quot;: 3}\n            ).addTo(map_29679fbdf7e18fb2bcc8c97836e6d827);\n        \n    \n        var popup_da5e855379c84c7cb1edc163eb69d553 = L.popup({\n  &quot;maxWidth&quot;: &quot;100%&quot;,\n});\n\n        \n            \n                var html_88216f9f0c27349da8b9a0a9253d2f3c = $(`&lt;div id=&quot;html_88216f9f0c27349da8b9a0a9253d2f3c&quot; style=&quot;width: 100.0%; height: 100.0%;&quot;&gt;Vandenberg Air Force Base&lt;/div&gt;`)[0];\n                popup_da5e855379c84c7cb1edc163eb69d553.setContent(html_88216f9f0c27349da8b9a0a9253d2f3c);\n            \n        \n\n        circle_9164d3792b7ded0667fb9c859dd8fd6c.bindPopup(popup_da5e855379c84c7cb1edc163eb69d553)\n        ;\n\n        \n    \n    \n            var circle_db5fdff5a557f28b0bda2a19eedd91ef = L.circle(\n                [28.5622, -80.5773],\n                {&quot;bubblingMouseEvents&quot;: true, &quot;color&quot;: &quot;blue&quot;, &quot;dashArray&quot;: null, &quot;dashOffset&quot;: null, &quot;fill&quot;: true, &quot;fillColor&quot;: &quot;blue&quot;, &quot;fillOpacity&quot;: 0.2, &quot;fillRule&quot;: &quot;evenodd&quot;, &quot;lineCap&quot;: &quot;round&quot;, &quot;lineJoin&quot;: &quot;round&quot;, &quot;opacity&quot;: 1.0, &quot;radius&quot;: 500, &quot;stroke&quot;: true, &quot;weight&quot;: 3}\n            ).addTo(map_29679fbdf7e18fb2bcc8c97836e6d827);\n        \n    \n        var popup_e9cba1c5be6cc3d13c0cbcb54c43d668 = L.popup({\n  &quot;maxWidth&quot;: &quot;100%&quot;,\n});\n\n        \n            \n                var html_0907d643a8af86239c749e6e9507564b = $(`&lt;div id=&quot;html_0907d643a8af86239c749e6e9507564b&quot; style=&quot;width: 100.0%; height: 100.0%;&quot;&gt;Kennedy Space Center&lt;/div&gt;`)[0];\n                popup_e9cba1c5be6cc3d13c0cbcb54c43d668.setContent(html_0907d643a8af86239c749e6e9507564b);\n            \n        \n\n        circle_db5fdff5a557f28b0bda2a19eedd91ef.bindPopup(popup_e9cba1c5be6cc3d13c0cbcb54c43d668)\n        ;\n\n        \n    \n    \n            var circle_b614655d161aa49e94ab82fb300b7f89 = L.circle(\n                [31.254, -110.865],\n                {&quot;bubblingMouseEvents&quot;: true, &quot;color&quot;: &quot;blue&quot;, &quot;dashArray&quot;: null, &quot;dashOffset&quot;: null, &quot;fill&quot;: true, &quot;fillColor&quot;: &quot;blue&quot;, &quot;fillOpacity&quot;: 0.2, &quot;fillRule&quot;: &quot;evenodd&quot;, &quot;lineCap&quot;: &quot;round&quot;, &quot;lineJoin&quot;: &quot;round&quot;, &quot;opacity&quot;: 1.0, &quot;radius&quot;: 500, &quot;stroke&quot;: true, &quot;weight&quot;: 3}\n            ).addTo(map_29679fbdf7e18fb2bcc8c97836e6d827);\n        \n    \n        var popup_f7023a96059f6a6c0b6fd03ea34550e6 = L.popup({\n  &quot;maxWidth&quot;: &quot;100%&quot;,\n});\n\n        \n            \n                var html_d86e3b55bae1c8f5b3a1566d2b9026a1 = $(`&lt;div id=&quot;html_d86e3b55bae1c8f5b3a1566d2b9026a1&quot; style=&quot;width: 100.0%; height: 100.0%;&quot;&gt;Launch Site 4&lt;/div&gt;`)[0];\n                popup_f7023a96059f6a6c0b6fd03ea34550e6.setContent(html_d86e3b55bae1c8f5b3a1566d2b9026a1);\n            \n        \n\n        circle_b614655d161aa49e94ab82fb300b7f89.bindPopup(popup_f7023a96059f6a6c0b6fd03ea34550e6)\n        ;\n\n        \n    \n&lt;/script&gt;\n&lt;/html&gt;\" style=\"position:absolute;width:100%;height:100%;left:0;top:0;border:none !important;\" allowfullscreen webkitallowfullscreen mozallowfullscreen></iframe></div></div>"
          },
          "metadata": {}
        }
      ],
      "execution_count": 12
    },
    {
      "cell_type": "markdown",
      "source": "First, let's try to add each site's location on a map using site's latitude and longitude coordinates\n",
      "metadata": {}
    },
    {
      "cell_type": "markdown",
      "source": "The following dataset with the name `spacex_launch_geo.csv` is an augmented dataset with latitude and longitude added for each site.\n",
      "metadata": {}
    },
    {
      "cell_type": "code",
      "source": "# Download and read the `spacex_launch_geo.csv`\nfrom js import fetch\nimport io\n\nURL = 'https://cf-courses-data.s3.us.cloud-object-storage.appdomain.cloud/IBM-DS0321EN-SkillsNetwork/datasets/spacex_launch_geo.csv'\nresp = await fetch(URL)\nspacex_csv_file = io.BytesIO((await resp.arrayBuffer()).to_py())\nspacex_df=pd.read_csv(spacex_csv_file)",
      "metadata": {
        "trusted": true
      },
      "outputs": [],
      "execution_count": 13
    },
    {
      "cell_type": "markdown",
      "source": "Now, you can take a look at what are the coordinates for each site.\n",
      "metadata": {}
    },
    {
      "cell_type": "code",
      "source": "# Select relevant sub-columns: `Launch Site`, `Lat(Latitude)`, `Long(Longitude)`, `class`\nspacex_df = spacex_df[['Launch Site', 'Lat', 'Long', 'class']]\nlaunch_sites_df = spacex_df.groupby(['Launch Site'], as_index=False).first()\nlaunch_sites_df = launch_sites_df[['Launch Site', 'Lat', 'Long']]\nlaunch_sites_df",
      "metadata": {
        "trusted": true
      },
      "outputs": [
        {
          "execution_count": 14,
          "output_type": "execute_result",
          "data": {
            "text/plain": "    Launch Site        Lat        Long\n0   CCAFS LC-40  28.562302  -80.577356\n1  CCAFS SLC-40  28.563197  -80.576820\n2    KSC LC-39A  28.573255  -80.646895\n3   VAFB SLC-4E  34.632834 -120.610745",
            "text/html": "<div>\n<style scoped>\n    .dataframe tbody tr th:only-of-type {\n        vertical-align: middle;\n    }\n\n    .dataframe tbody tr th {\n        vertical-align: top;\n    }\n\n    .dataframe thead th {\n        text-align: right;\n    }\n</style>\n<table border=\"1\" class=\"dataframe\">\n  <thead>\n    <tr style=\"text-align: right;\">\n      <th></th>\n      <th>Launch Site</th>\n      <th>Lat</th>\n      <th>Long</th>\n    </tr>\n  </thead>\n  <tbody>\n    <tr>\n      <th>0</th>\n      <td>CCAFS LC-40</td>\n      <td>28.562302</td>\n      <td>-80.577356</td>\n    </tr>\n    <tr>\n      <th>1</th>\n      <td>CCAFS SLC-40</td>\n      <td>28.563197</td>\n      <td>-80.576820</td>\n    </tr>\n    <tr>\n      <th>2</th>\n      <td>KSC LC-39A</td>\n      <td>28.573255</td>\n      <td>-80.646895</td>\n    </tr>\n    <tr>\n      <th>3</th>\n      <td>VAFB SLC-4E</td>\n      <td>34.632834</td>\n      <td>-120.610745</td>\n    </tr>\n  </tbody>\n</table>\n</div>"
          },
          "metadata": {}
        }
      ],
      "execution_count": 14
    },
    {
      "cell_type": "markdown",
      "source": "Above coordinates are just plain numbers that can not give you any intuitive insights about where are those launch sites. If you are very good at geography, you can interpret those numbers directly in your mind. If not, that's fine too. Let's visualize those locations by pinning them on a map.\n",
      "metadata": {}
    },
    {
      "cell_type": "markdown",
      "source": "We first need to create a folium `Map` object, with an initial center location to be NASA Johnson Space Center at Houston, Texas.\n",
      "metadata": {}
    },
    {
      "cell_type": "code",
      "source": "# Start location is NASA Johnson Space Center\nnasa_coordinate = [29.559684888503615, -95.0830971930759]\nsite_map = folium.Map(location=nasa_coordinate, zoom_start=10)",
      "metadata": {
        "trusted": true
      },
      "outputs": [],
      "execution_count": 15
    },
    {
      "cell_type": "markdown",
      "source": "We could use `folium.Circle` to add a highlighted circle area with a text label on a specific coordinate. For example,\n",
      "metadata": {}
    },
    {
      "cell_type": "code",
      "source": "# Create a blue circle at NASA Johnson Space Center's coordinate with a popup label showing its name\ncircle = folium.Circle(nasa_coordinate, radius=1000, color='#d35400', fill=True).add_child(folium.Popup('NASA Johnson Space Center'))\n# Create a blue circle at NASA Johnson Space Center's coordinate with a icon showing its name\nmarker = folium.map.Marker(\n    nasa_coordinate,\n    # Create an icon as a text label\n    icon=DivIcon(\n        icon_size=(20,20),\n        icon_anchor=(0,0),\n        html='<div style=\"font-size: 12; color:#d35400;\"><b>%s</b></div>' % 'NASA JSC',\n        )\n    )\nsite_map.add_child(circle)\nsite_map.add_child(marker)",
      "metadata": {
        "trusted": true
      },
      "outputs": [
        {
          "execution_count": 16,
          "output_type": "execute_result",
          "data": {
            "text/plain": "<folium.folium.Map at 0x6049bb0>",
            "text/html": "<div style=\"width:100%;\"><div style=\"position:relative;width:100%;height:0;padding-bottom:60%;\"><span style=\"color:#565656\">Make this Notebook Trusted to load map: File -> Trust Notebook</span><iframe srcdoc=\"&lt;!DOCTYPE html&gt;\n&lt;html&gt;\n&lt;head&gt;\n    \n    &lt;meta http-equiv=&quot;content-type&quot; content=&quot;text/html; charset=UTF-8&quot; /&gt;\n    &lt;script src=&quot;https://cdn.jsdelivr.net/npm/leaflet@1.9.3/dist/leaflet.js&quot;&gt;&lt;/script&gt;\n    &lt;script src=&quot;https://code.jquery.com/jquery-3.7.1.min.js&quot;&gt;&lt;/script&gt;\n    &lt;script src=&quot;https://cdn.jsdelivr.net/npm/bootstrap@5.2.2/dist/js/bootstrap.bundle.min.js&quot;&gt;&lt;/script&gt;\n    &lt;script src=&quot;https://cdnjs.cloudflare.com/ajax/libs/Leaflet.awesome-markers/2.0.2/leaflet.awesome-markers.js&quot;&gt;&lt;/script&gt;\n    &lt;link rel=&quot;stylesheet&quot; href=&quot;https://cdn.jsdelivr.net/npm/leaflet@1.9.3/dist/leaflet.css&quot;/&gt;\n    &lt;link rel=&quot;stylesheet&quot; href=&quot;https://cdn.jsdelivr.net/npm/bootstrap@5.2.2/dist/css/bootstrap.min.css&quot;/&gt;\n    &lt;link rel=&quot;stylesheet&quot; href=&quot;https://netdna.bootstrapcdn.com/bootstrap/3.0.0/css/bootstrap-glyphicons.css&quot;/&gt;\n    &lt;link rel=&quot;stylesheet&quot; href=&quot;https://cdn.jsdelivr.net/npm/@fortawesome/fontawesome-free@6.2.0/css/all.min.css&quot;/&gt;\n    &lt;link rel=&quot;stylesheet&quot; href=&quot;https://cdnjs.cloudflare.com/ajax/libs/Leaflet.awesome-markers/2.0.2/leaflet.awesome-markers.css&quot;/&gt;\n    &lt;link rel=&quot;stylesheet&quot; href=&quot;https://cdn.jsdelivr.net/gh/python-visualization/folium/folium/templates/leaflet.awesome.rotate.min.css&quot;/&gt;\n    \n            &lt;meta name=&quot;viewport&quot; content=&quot;width=device-width,\n                initial-scale=1.0, maximum-scale=1.0, user-scalable=no&quot; /&gt;\n            &lt;style&gt;\n                #map_86b29172401438f186b5c618e0896aa4 {\n                    position: relative;\n                    width: 100.0%;\n                    height: 100.0%;\n                    left: 0.0%;\n                    top: 0.0%;\n                }\n                .leaflet-container { font-size: 1rem; }\n            &lt;/style&gt;\n\n            &lt;style&gt;html, body {\n                width: 100%;\n                height: 100%;\n                margin: 0;\n                padding: 0;\n            }\n            &lt;/style&gt;\n\n            &lt;style&gt;#map {\n                position:absolute;\n                top:0;\n                bottom:0;\n                right:0;\n                left:0;\n                }\n            &lt;/style&gt;\n\n            &lt;script&gt;\n                L_NO_TOUCH = false;\n                L_DISABLE_3D = false;\n            &lt;/script&gt;\n\n        \n&lt;/head&gt;\n&lt;body&gt;\n    \n    \n            &lt;div class=&quot;folium-map&quot; id=&quot;map_86b29172401438f186b5c618e0896aa4&quot; &gt;&lt;/div&gt;\n        \n&lt;/body&gt;\n&lt;script&gt;\n    \n    \n            var map_86b29172401438f186b5c618e0896aa4 = L.map(\n                &quot;map_86b29172401438f186b5c618e0896aa4&quot;,\n                {\n                    center: [29.559684888503615, -95.0830971930759],\n                    crs: L.CRS.EPSG3857,\n                    ...{\n  &quot;zoom&quot;: 10,\n  &quot;zoomControl&quot;: true,\n  &quot;preferCanvas&quot;: false,\n}\n\n                }\n            );\n\n            \n\n        \n    \n            var tile_layer_94e9a8ca07283f5c64a716c069b4476b = L.tileLayer(\n                &quot;https://tile.openstreetmap.org/{z}/{x}/{y}.png&quot;,\n                {\n  &quot;minZoom&quot;: 0,\n  &quot;maxZoom&quot;: 19,\n  &quot;maxNativeZoom&quot;: 19,\n  &quot;noWrap&quot;: false,\n  &quot;attribution&quot;: &quot;\\u0026copy; \\u003ca href=\\&quot;https://www.openstreetmap.org/copyright\\&quot;\\u003eOpenStreetMap\\u003c/a\\u003e contributors&quot;,\n  &quot;subdomains&quot;: &quot;abc&quot;,\n  &quot;detectRetina&quot;: false,\n  &quot;tms&quot;: false,\n  &quot;opacity&quot;: 1,\n}\n\n            );\n        \n    \n            tile_layer_94e9a8ca07283f5c64a716c069b4476b.addTo(map_86b29172401438f186b5c618e0896aa4);\n        \n    \n            var circle_f2be161d6318b7e20eafef71c91a1734 = L.circle(\n                [29.559684888503615, -95.0830971930759],\n                {&quot;bubblingMouseEvents&quot;: true, &quot;color&quot;: &quot;#d35400&quot;, &quot;dashArray&quot;: null, &quot;dashOffset&quot;: null, &quot;fill&quot;: true, &quot;fillColor&quot;: &quot;#d35400&quot;, &quot;fillOpacity&quot;: 0.2, &quot;fillRule&quot;: &quot;evenodd&quot;, &quot;lineCap&quot;: &quot;round&quot;, &quot;lineJoin&quot;: &quot;round&quot;, &quot;opacity&quot;: 1.0, &quot;radius&quot;: 1000, &quot;stroke&quot;: true, &quot;weight&quot;: 3}\n            ).addTo(map_86b29172401438f186b5c618e0896aa4);\n        \n    \n        var popup_8e64af45cb1a10010b8fb9bfc5cb2676 = L.popup({\n  &quot;maxWidth&quot;: &quot;100%&quot;,\n});\n\n        \n            \n                var html_90a5c3b0448e3db1e7f78f00f014c748 = $(`&lt;div id=&quot;html_90a5c3b0448e3db1e7f78f00f014c748&quot; style=&quot;width: 100.0%; height: 100.0%;&quot;&gt;NASA Johnson Space Center&lt;/div&gt;`)[0];\n                popup_8e64af45cb1a10010b8fb9bfc5cb2676.setContent(html_90a5c3b0448e3db1e7f78f00f014c748);\n            \n        \n\n        circle_f2be161d6318b7e20eafef71c91a1734.bindPopup(popup_8e64af45cb1a10010b8fb9bfc5cb2676)\n        ;\n\n        \n    \n    \n            var marker_45b302f276ced05cfa67b631aaa65124 = L.marker(\n                [29.559684888503615, -95.0830971930759],\n                {\n}\n            ).addTo(map_86b29172401438f186b5c618e0896aa4);\n        \n    \n            var div_icon_22d176e17172a927a5887d7a42f4b190 = L.divIcon({\n  &quot;html&quot;: &quot;\\u003cdiv style=\\&quot;font-size: 12; color:#d35400;\\&quot;\\u003e\\u003cb\\u003eNASA JSC\\u003c/b\\u003e\\u003c/div\\u003e&quot;,\n  &quot;iconSize&quot;: [20, 20],\n  &quot;iconAnchor&quot;: [0, 0],\n  &quot;className&quot;: &quot;empty&quot;,\n});\n        \n    \n                marker_45b302f276ced05cfa67b631aaa65124.setIcon(div_icon_22d176e17172a927a5887d7a42f4b190);\n            \n&lt;/script&gt;\n&lt;/html&gt;\" style=\"position:absolute;width:100%;height:100%;left:0;top:0;border:none !important;\" allowfullscreen webkitallowfullscreen mozallowfullscreen></iframe></div></div>"
          },
          "metadata": {}
        }
      ],
      "execution_count": 16
    },
    {
      "cell_type": "markdown",
      "source": "and you should find a small yellow circle near the city of Houston and you can zoom-in to see a larger circle.\n",
      "metadata": {}
    },
    {
      "cell_type": "markdown",
      "source": "Now, let's add a circle for each launch site in data frame `launch_sites`\n",
      "metadata": {}
    },
    {
      "cell_type": "markdown",
      "source": "*TODO:*  Create and add `folium.Circle` and `folium.Marker` for each launch site on the site map\n",
      "metadata": {}
    },
    {
      "cell_type": "markdown",
      "source": "An example of folium.Circle:\n",
      "metadata": {}
    },
    {
      "cell_type": "markdown",
      "source": "`folium.Circle(coordinate, radius=1000, color='#000000', fill=True).add_child(folium.Popup(...))`\n",
      "metadata": {}
    },
    {
      "cell_type": "markdown",
      "source": "An example of folium.Marker:\n",
      "metadata": {}
    },
    {
      "cell_type": "markdown",
      "source": "`folium.map.Marker(coordinate, icon=DivIcon(icon_size=(20,20),icon_anchor=(0,0), html='<div style=\"font-size: 12; color:#d35400;\"><b>%s</b></div>' % 'label', ))`\n",
      "metadata": {}
    },
    {
      "cell_type": "code",
      "source": "# Initial the map\nsite_map = folium.Map(location=nasa_coordinate, zoom_start=5)\n# For each launch site, add a Circle object based on its coordinate (Lat, Long) values. In addition, add Launch site name as a popup label\nimport folium\n\n# NASA Johnson Space Center coordinate (center of the map)\nnasa_coordinate = [29.559684888503615, -95.0830971930759]\n\n# Initialize the map\nsite_map = folium.Map(location=nasa_coordinate, zoom_start=5)\n\n# Example list of launch sites with their coordinates and names\nlaunch_sites = [\n    (28.5623, -80.5774, 'Cape Canaveral'),\n    (34.6329, -120.6108, 'Vandenberg Air Force Base'),\n    (28.5622, -80.5773, 'Kennedy Space Center'),\n    (31.2540, -110.8650, 'Launch Site 4')\n]\n\n# Add a Circle for each launch site with a popup label\nfor lat, lon, site_name in launch_sites:\n    folium.Circle(\n        location=[lat, lon],\n        radius=1000,  # radius in meters\n        color='#0000FF',  # blue color\n        fill=True,\n        fill_color='#0000FF',\n        fill_opacity=0.5\n    ).add_child(folium.Popup(site_name)).add_to(site_map)\n\n# Display the map\nsite_map",
      "metadata": {
        "trusted": true
      },
      "outputs": [
        {
          "execution_count": 18,
          "output_type": "execute_result",
          "data": {
            "text/plain": "<folium.folium.Map at 0x1223e60>",
            "text/html": "<div style=\"width:100%;\"><div style=\"position:relative;width:100%;height:0;padding-bottom:60%;\"><span style=\"color:#565656\">Make this Notebook Trusted to load map: File -> Trust Notebook</span><iframe srcdoc=\"&lt;!DOCTYPE html&gt;\n&lt;html&gt;\n&lt;head&gt;\n    \n    &lt;meta http-equiv=&quot;content-type&quot; content=&quot;text/html; charset=UTF-8&quot; /&gt;\n    &lt;script src=&quot;https://cdn.jsdelivr.net/npm/leaflet@1.9.3/dist/leaflet.js&quot;&gt;&lt;/script&gt;\n    &lt;script src=&quot;https://code.jquery.com/jquery-3.7.1.min.js&quot;&gt;&lt;/script&gt;\n    &lt;script src=&quot;https://cdn.jsdelivr.net/npm/bootstrap@5.2.2/dist/js/bootstrap.bundle.min.js&quot;&gt;&lt;/script&gt;\n    &lt;script src=&quot;https://cdnjs.cloudflare.com/ajax/libs/Leaflet.awesome-markers/2.0.2/leaflet.awesome-markers.js&quot;&gt;&lt;/script&gt;\n    &lt;link rel=&quot;stylesheet&quot; href=&quot;https://cdn.jsdelivr.net/npm/leaflet@1.9.3/dist/leaflet.css&quot;/&gt;\n    &lt;link rel=&quot;stylesheet&quot; href=&quot;https://cdn.jsdelivr.net/npm/bootstrap@5.2.2/dist/css/bootstrap.min.css&quot;/&gt;\n    &lt;link rel=&quot;stylesheet&quot; href=&quot;https://netdna.bootstrapcdn.com/bootstrap/3.0.0/css/bootstrap-glyphicons.css&quot;/&gt;\n    &lt;link rel=&quot;stylesheet&quot; href=&quot;https://cdn.jsdelivr.net/npm/@fortawesome/fontawesome-free@6.2.0/css/all.min.css&quot;/&gt;\n    &lt;link rel=&quot;stylesheet&quot; href=&quot;https://cdnjs.cloudflare.com/ajax/libs/Leaflet.awesome-markers/2.0.2/leaflet.awesome-markers.css&quot;/&gt;\n    &lt;link rel=&quot;stylesheet&quot; href=&quot;https://cdn.jsdelivr.net/gh/python-visualization/folium/folium/templates/leaflet.awesome.rotate.min.css&quot;/&gt;\n    \n            &lt;meta name=&quot;viewport&quot; content=&quot;width=device-width,\n                initial-scale=1.0, maximum-scale=1.0, user-scalable=no&quot; /&gt;\n            &lt;style&gt;\n                #map_e505fdedf97edc2c26babac1a1a543ac {\n                    position: relative;\n                    width: 100.0%;\n                    height: 100.0%;\n                    left: 0.0%;\n                    top: 0.0%;\n                }\n                .leaflet-container { font-size: 1rem; }\n            &lt;/style&gt;\n\n            &lt;style&gt;html, body {\n                width: 100%;\n                height: 100%;\n                margin: 0;\n                padding: 0;\n            }\n            &lt;/style&gt;\n\n            &lt;style&gt;#map {\n                position:absolute;\n                top:0;\n                bottom:0;\n                right:0;\n                left:0;\n                }\n            &lt;/style&gt;\n\n            &lt;script&gt;\n                L_NO_TOUCH = false;\n                L_DISABLE_3D = false;\n            &lt;/script&gt;\n\n        \n&lt;/head&gt;\n&lt;body&gt;\n    \n    \n            &lt;div class=&quot;folium-map&quot; id=&quot;map_e505fdedf97edc2c26babac1a1a543ac&quot; &gt;&lt;/div&gt;\n        \n&lt;/body&gt;\n&lt;script&gt;\n    \n    \n            var map_e505fdedf97edc2c26babac1a1a543ac = L.map(\n                &quot;map_e505fdedf97edc2c26babac1a1a543ac&quot;,\n                {\n                    center: [29.559684888503615, -95.0830971930759],\n                    crs: L.CRS.EPSG3857,\n                    ...{\n  &quot;zoom&quot;: 5,\n  &quot;zoomControl&quot;: true,\n  &quot;preferCanvas&quot;: false,\n}\n\n                }\n            );\n\n            \n\n        \n    \n            var tile_layer_7389d0ce5ac0041484d9bf576ca3acd5 = L.tileLayer(\n                &quot;https://tile.openstreetmap.org/{z}/{x}/{y}.png&quot;,\n                {\n  &quot;minZoom&quot;: 0,\n  &quot;maxZoom&quot;: 19,\n  &quot;maxNativeZoom&quot;: 19,\n  &quot;noWrap&quot;: false,\n  &quot;attribution&quot;: &quot;\\u0026copy; \\u003ca href=\\&quot;https://www.openstreetmap.org/copyright\\&quot;\\u003eOpenStreetMap\\u003c/a\\u003e contributors&quot;,\n  &quot;subdomains&quot;: &quot;abc&quot;,\n  &quot;detectRetina&quot;: false,\n  &quot;tms&quot;: false,\n  &quot;opacity&quot;: 1,\n}\n\n            );\n        \n    \n            tile_layer_7389d0ce5ac0041484d9bf576ca3acd5.addTo(map_e505fdedf97edc2c26babac1a1a543ac);\n        \n    \n            var circle_1165752438e01202d710703374f32ac0 = L.circle(\n                [28.5623, -80.5774],\n                {&quot;bubblingMouseEvents&quot;: true, &quot;color&quot;: &quot;#0000FF&quot;, &quot;dashArray&quot;: null, &quot;dashOffset&quot;: null, &quot;fill&quot;: true, &quot;fillColor&quot;: &quot;#0000FF&quot;, &quot;fillOpacity&quot;: 0.5, &quot;fillRule&quot;: &quot;evenodd&quot;, &quot;lineCap&quot;: &quot;round&quot;, &quot;lineJoin&quot;: &quot;round&quot;, &quot;opacity&quot;: 1.0, &quot;radius&quot;: 1000, &quot;stroke&quot;: true, &quot;weight&quot;: 3}\n            ).addTo(map_e505fdedf97edc2c26babac1a1a543ac);\n        \n    \n        var popup_a91810c152a598caf1cf0406006c0423 = L.popup({\n  &quot;maxWidth&quot;: &quot;100%&quot;,\n});\n\n        \n            \n                var html_6ba5efb91f73956ee91bb0c4041eeef8 = $(`&lt;div id=&quot;html_6ba5efb91f73956ee91bb0c4041eeef8&quot; style=&quot;width: 100.0%; height: 100.0%;&quot;&gt;Cape Canaveral&lt;/div&gt;`)[0];\n                popup_a91810c152a598caf1cf0406006c0423.setContent(html_6ba5efb91f73956ee91bb0c4041eeef8);\n            \n        \n\n        circle_1165752438e01202d710703374f32ac0.bindPopup(popup_a91810c152a598caf1cf0406006c0423)\n        ;\n\n        \n    \n    \n            var circle_4853f23450e14da4f720e984a40a90f3 = L.circle(\n                [34.6329, -120.6108],\n                {&quot;bubblingMouseEvents&quot;: true, &quot;color&quot;: &quot;#0000FF&quot;, &quot;dashArray&quot;: null, &quot;dashOffset&quot;: null, &quot;fill&quot;: true, &quot;fillColor&quot;: &quot;#0000FF&quot;, &quot;fillOpacity&quot;: 0.5, &quot;fillRule&quot;: &quot;evenodd&quot;, &quot;lineCap&quot;: &quot;round&quot;, &quot;lineJoin&quot;: &quot;round&quot;, &quot;opacity&quot;: 1.0, &quot;radius&quot;: 1000, &quot;stroke&quot;: true, &quot;weight&quot;: 3}\n            ).addTo(map_e505fdedf97edc2c26babac1a1a543ac);\n        \n    \n        var popup_7909bdd8be1b2170c19e25de5751a967 = L.popup({\n  &quot;maxWidth&quot;: &quot;100%&quot;,\n});\n\n        \n            \n                var html_9955eadc5c1617d6ba6301b5ff75292b = $(`&lt;div id=&quot;html_9955eadc5c1617d6ba6301b5ff75292b&quot; style=&quot;width: 100.0%; height: 100.0%;&quot;&gt;Vandenberg Air Force Base&lt;/div&gt;`)[0];\n                popup_7909bdd8be1b2170c19e25de5751a967.setContent(html_9955eadc5c1617d6ba6301b5ff75292b);\n            \n        \n\n        circle_4853f23450e14da4f720e984a40a90f3.bindPopup(popup_7909bdd8be1b2170c19e25de5751a967)\n        ;\n\n        \n    \n    \n            var circle_9feea43782f8e76b859dce464cfc6a97 = L.circle(\n                [28.5622, -80.5773],\n                {&quot;bubblingMouseEvents&quot;: true, &quot;color&quot;: &quot;#0000FF&quot;, &quot;dashArray&quot;: null, &quot;dashOffset&quot;: null, &quot;fill&quot;: true, &quot;fillColor&quot;: &quot;#0000FF&quot;, &quot;fillOpacity&quot;: 0.5, &quot;fillRule&quot;: &quot;evenodd&quot;, &quot;lineCap&quot;: &quot;round&quot;, &quot;lineJoin&quot;: &quot;round&quot;, &quot;opacity&quot;: 1.0, &quot;radius&quot;: 1000, &quot;stroke&quot;: true, &quot;weight&quot;: 3}\n            ).addTo(map_e505fdedf97edc2c26babac1a1a543ac);\n        \n    \n        var popup_a4017c631af6b964d19d5d42df8e7b6b = L.popup({\n  &quot;maxWidth&quot;: &quot;100%&quot;,\n});\n\n        \n            \n                var html_4ba2fcf84c2c3d55b56cdb69a6299a0e = $(`&lt;div id=&quot;html_4ba2fcf84c2c3d55b56cdb69a6299a0e&quot; style=&quot;width: 100.0%; height: 100.0%;&quot;&gt;Kennedy Space Center&lt;/div&gt;`)[0];\n                popup_a4017c631af6b964d19d5d42df8e7b6b.setContent(html_4ba2fcf84c2c3d55b56cdb69a6299a0e);\n            \n        \n\n        circle_9feea43782f8e76b859dce464cfc6a97.bindPopup(popup_a4017c631af6b964d19d5d42df8e7b6b)\n        ;\n\n        \n    \n    \n            var circle_322fdec137cfe5c2d1a6849e957a3e61 = L.circle(\n                [31.254, -110.865],\n                {&quot;bubblingMouseEvents&quot;: true, &quot;color&quot;: &quot;#0000FF&quot;, &quot;dashArray&quot;: null, &quot;dashOffset&quot;: null, &quot;fill&quot;: true, &quot;fillColor&quot;: &quot;#0000FF&quot;, &quot;fillOpacity&quot;: 0.5, &quot;fillRule&quot;: &quot;evenodd&quot;, &quot;lineCap&quot;: &quot;round&quot;, &quot;lineJoin&quot;: &quot;round&quot;, &quot;opacity&quot;: 1.0, &quot;radius&quot;: 1000, &quot;stroke&quot;: true, &quot;weight&quot;: 3}\n            ).addTo(map_e505fdedf97edc2c26babac1a1a543ac);\n        \n    \n        var popup_3f4edc79d593424b9629b31764cb7fb3 = L.popup({\n  &quot;maxWidth&quot;: &quot;100%&quot;,\n});\n\n        \n            \n                var html_550cd6ab388ccfdfd0a3dae372c7561a = $(`&lt;div id=&quot;html_550cd6ab388ccfdfd0a3dae372c7561a&quot; style=&quot;width: 100.0%; height: 100.0%;&quot;&gt;Launch Site 4&lt;/div&gt;`)[0];\n                popup_3f4edc79d593424b9629b31764cb7fb3.setContent(html_550cd6ab388ccfdfd0a3dae372c7561a);\n            \n        \n\n        circle_322fdec137cfe5c2d1a6849e957a3e61.bindPopup(popup_3f4edc79d593424b9629b31764cb7fb3)\n        ;\n\n        \n    \n&lt;/script&gt;\n&lt;/html&gt;\" style=\"position:absolute;width:100%;height:100%;left:0;top:0;border:none !important;\" allowfullscreen webkitallowfullscreen mozallowfullscreen></iframe></div></div>"
          },
          "metadata": {}
        }
      ],
      "execution_count": 18
    },
    {
      "cell_type": "markdown",
      "source": "The generated map with marked launch sites should look similar to the following:\n",
      "metadata": {}
    },
    {
      "cell_type": "markdown",
      "source": "<center>\n    <img src=\"https://cf-courses-data.s3.us.cloud-object-storage.appdomain.cloud/IBM-DS0321EN-SkillsNetwork/labs/module_3/images/launch_site_markers.png\">\n</center>\n",
      "metadata": {}
    },
    {
      "cell_type": "markdown",
      "source": "Now, you can explore the map by zoom-in/out the marked areas\n, and try to answer the following questions:\n\n*   Are all launch sites in proximity to the Equator line?\n*   Are all launch sites in very close proximity to the coast?\n\nAlso please try to explain your findings.\n",
      "metadata": {}
    },
    {
      "cell_type": "code",
      "source": "# Task 2: Mark the success/failed launches for each site on the map\nimport folium\nfrom folium.plugins import MarkerCluster\n\n# Initialize map centered at NASA Johnson Space Center\nnasa_coordinate = [29.559684888503615, -95.0830971930759]\nsite_map = folium.Map(location=nasa_coordinate, zoom_start=5)\n\n# Initialize MarkerCluster\nmarker_cluster = MarkerCluster().add_to(site_map)\n\n# Example DataFrame structure for launches (replace with your spacex_df)\nimport pandas as pd\n\ndata = {\n    'Latitude': [28.5623, 34.6329, 28.5622, 31.2540],\n    'Longitude': [-80.5774, -120.6108, -80.5773, -110.8650],\n    'Launch_Site': ['Cape Canaveral', 'Vandenberg', 'Kennedy Space Center', 'Launch Site 4'],\n    'class': [1, 0, 1, 0]  # 1 = success, 0 = failed\n}\n\nspacex_df = pd.DataFrame(data)\n\n# Add markers for each launch with color indicating success or failure\nfor index, row in spacex_df.iterrows():\n    marker_color = 'green' if row['class'] == 1 else 'red'\n    folium.Marker(\n        location=[row['Latitude'], row['Longitude']],\n        popup=f\"{row['Launch_Site']} - {'Success' if row['class'] == 1 else 'Failed'}\",\n        icon=folium.Icon(color=marker_color)\n    ).add_to(marker_cluster)\n\n# Display the map\nsite_map",
      "metadata": {
        "trusted": true
      },
      "outputs": [
        {
          "execution_count": 19,
          "output_type": "execute_result",
          "data": {
            "text/plain": "<folium.folium.Map at 0x60524b0>",
            "text/html": "<div style=\"width:100%;\"><div style=\"position:relative;width:100%;height:0;padding-bottom:60%;\"><span style=\"color:#565656\">Make this Notebook Trusted to load map: File -> Trust Notebook</span><iframe srcdoc=\"&lt;!DOCTYPE html&gt;\n&lt;html&gt;\n&lt;head&gt;\n    \n    &lt;meta http-equiv=&quot;content-type&quot; content=&quot;text/html; charset=UTF-8&quot; /&gt;\n    &lt;script src=&quot;https://cdn.jsdelivr.net/npm/leaflet@1.9.3/dist/leaflet.js&quot;&gt;&lt;/script&gt;\n    &lt;script src=&quot;https://code.jquery.com/jquery-3.7.1.min.js&quot;&gt;&lt;/script&gt;\n    &lt;script src=&quot;https://cdn.jsdelivr.net/npm/bootstrap@5.2.2/dist/js/bootstrap.bundle.min.js&quot;&gt;&lt;/script&gt;\n    &lt;script src=&quot;https://cdnjs.cloudflare.com/ajax/libs/Leaflet.awesome-markers/2.0.2/leaflet.awesome-markers.js&quot;&gt;&lt;/script&gt;\n    &lt;link rel=&quot;stylesheet&quot; href=&quot;https://cdn.jsdelivr.net/npm/leaflet@1.9.3/dist/leaflet.css&quot;/&gt;\n    &lt;link rel=&quot;stylesheet&quot; href=&quot;https://cdn.jsdelivr.net/npm/bootstrap@5.2.2/dist/css/bootstrap.min.css&quot;/&gt;\n    &lt;link rel=&quot;stylesheet&quot; href=&quot;https://netdna.bootstrapcdn.com/bootstrap/3.0.0/css/bootstrap-glyphicons.css&quot;/&gt;\n    &lt;link rel=&quot;stylesheet&quot; href=&quot;https://cdn.jsdelivr.net/npm/@fortawesome/fontawesome-free@6.2.0/css/all.min.css&quot;/&gt;\n    &lt;link rel=&quot;stylesheet&quot; href=&quot;https://cdnjs.cloudflare.com/ajax/libs/Leaflet.awesome-markers/2.0.2/leaflet.awesome-markers.css&quot;/&gt;\n    &lt;link rel=&quot;stylesheet&quot; href=&quot;https://cdn.jsdelivr.net/gh/python-visualization/folium/folium/templates/leaflet.awesome.rotate.min.css&quot;/&gt;\n    \n            &lt;meta name=&quot;viewport&quot; content=&quot;width=device-width,\n                initial-scale=1.0, maximum-scale=1.0, user-scalable=no&quot; /&gt;\n            &lt;style&gt;\n                #map_bb4b96da1d6df6099ab2c373e0b5df5a {\n                    position: relative;\n                    width: 100.0%;\n                    height: 100.0%;\n                    left: 0.0%;\n                    top: 0.0%;\n                }\n                .leaflet-container { font-size: 1rem; }\n            &lt;/style&gt;\n\n            &lt;style&gt;html, body {\n                width: 100%;\n                height: 100%;\n                margin: 0;\n                padding: 0;\n            }\n            &lt;/style&gt;\n\n            &lt;style&gt;#map {\n                position:absolute;\n                top:0;\n                bottom:0;\n                right:0;\n                left:0;\n                }\n            &lt;/style&gt;\n\n            &lt;script&gt;\n                L_NO_TOUCH = false;\n                L_DISABLE_3D = false;\n            &lt;/script&gt;\n\n        \n    &lt;script src=&quot;https://cdnjs.cloudflare.com/ajax/libs/leaflet.markercluster/1.1.0/leaflet.markercluster.js&quot;&gt;&lt;/script&gt;\n    &lt;link rel=&quot;stylesheet&quot; href=&quot;https://cdnjs.cloudflare.com/ajax/libs/leaflet.markercluster/1.1.0/MarkerCluster.css&quot;/&gt;\n    &lt;link rel=&quot;stylesheet&quot; href=&quot;https://cdnjs.cloudflare.com/ajax/libs/leaflet.markercluster/1.1.0/MarkerCluster.Default.css&quot;/&gt;\n&lt;/head&gt;\n&lt;body&gt;\n    \n    \n            &lt;div class=&quot;folium-map&quot; id=&quot;map_bb4b96da1d6df6099ab2c373e0b5df5a&quot; &gt;&lt;/div&gt;\n        \n&lt;/body&gt;\n&lt;script&gt;\n    \n    \n            var map_bb4b96da1d6df6099ab2c373e0b5df5a = L.map(\n                &quot;map_bb4b96da1d6df6099ab2c373e0b5df5a&quot;,\n                {\n                    center: [29.559684888503615, -95.0830971930759],\n                    crs: L.CRS.EPSG3857,\n                    ...{\n  &quot;zoom&quot;: 5,\n  &quot;zoomControl&quot;: true,\n  &quot;preferCanvas&quot;: false,\n}\n\n                }\n            );\n\n            \n\n        \n    \n            var tile_layer_05f7a2072e74bced898ea9efebba25eb = L.tileLayer(\n                &quot;https://tile.openstreetmap.org/{z}/{x}/{y}.png&quot;,\n                {\n  &quot;minZoom&quot;: 0,\n  &quot;maxZoom&quot;: 19,\n  &quot;maxNativeZoom&quot;: 19,\n  &quot;noWrap&quot;: false,\n  &quot;attribution&quot;: &quot;\\u0026copy; \\u003ca href=\\&quot;https://www.openstreetmap.org/copyright\\&quot;\\u003eOpenStreetMap\\u003c/a\\u003e contributors&quot;,\n  &quot;subdomains&quot;: &quot;abc&quot;,\n  &quot;detectRetina&quot;: false,\n  &quot;tms&quot;: false,\n  &quot;opacity&quot;: 1,\n}\n\n            );\n        \n    \n            tile_layer_05f7a2072e74bced898ea9efebba25eb.addTo(map_bb4b96da1d6df6099ab2c373e0b5df5a);\n        \n    \n            var marker_cluster_d3037daef370d39c235bb1419d7e7c4f = L.markerClusterGroup(\n                {\n}\n            );\n        \n    \n            var marker_8c3d65ce90438c951e33b3d830bc8cd7 = L.marker(\n                [28.5623, -80.5774],\n                {\n}\n            ).addTo(marker_cluster_d3037daef370d39c235bb1419d7e7c4f);\n        \n    \n            var icon_3fcfd202f78b12fd89822d8b1f7c0aec = L.AwesomeMarkers.icon(\n                {\n  &quot;markerColor&quot;: &quot;green&quot;,\n  &quot;iconColor&quot;: &quot;white&quot;,\n  &quot;icon&quot;: &quot;info-sign&quot;,\n  &quot;prefix&quot;: &quot;glyphicon&quot;,\n  &quot;extraClasses&quot;: &quot;fa-rotate-0&quot;,\n}\n            );\n        \n    \n        var popup_890aaaedeac35a7b3e0ab0a8b5ba2c08 = L.popup({\n  &quot;maxWidth&quot;: &quot;100%&quot;,\n});\n\n        \n            \n                var html_b58440ff7f1ee517e4b055d4d377ba2e = $(`&lt;div id=&quot;html_b58440ff7f1ee517e4b055d4d377ba2e&quot; style=&quot;width: 100.0%; height: 100.0%;&quot;&gt;Cape Canaveral - Success&lt;/div&gt;`)[0];\n                popup_890aaaedeac35a7b3e0ab0a8b5ba2c08.setContent(html_b58440ff7f1ee517e4b055d4d377ba2e);\n            \n        \n\n        marker_8c3d65ce90438c951e33b3d830bc8cd7.bindPopup(popup_890aaaedeac35a7b3e0ab0a8b5ba2c08)\n        ;\n\n        \n    \n    \n                marker_8c3d65ce90438c951e33b3d830bc8cd7.setIcon(icon_3fcfd202f78b12fd89822d8b1f7c0aec);\n            \n    \n            var marker_c843e02bd72d9e3f23c39abbe39e9776 = L.marker(\n                [34.6329, -120.6108],\n                {\n}\n            ).addTo(marker_cluster_d3037daef370d39c235bb1419d7e7c4f);\n        \n    \n            var icon_f2eedc2a96157e86844dc764623ab784 = L.AwesomeMarkers.icon(\n                {\n  &quot;markerColor&quot;: &quot;red&quot;,\n  &quot;iconColor&quot;: &quot;white&quot;,\n  &quot;icon&quot;: &quot;info-sign&quot;,\n  &quot;prefix&quot;: &quot;glyphicon&quot;,\n  &quot;extraClasses&quot;: &quot;fa-rotate-0&quot;,\n}\n            );\n        \n    \n        var popup_beb7cba4bc4f29e6de34b60a2a5b4fb6 = L.popup({\n  &quot;maxWidth&quot;: &quot;100%&quot;,\n});\n\n        \n            \n                var html_cce549b7524cb81a7e7c3e7fa3c92f6a = $(`&lt;div id=&quot;html_cce549b7524cb81a7e7c3e7fa3c92f6a&quot; style=&quot;width: 100.0%; height: 100.0%;&quot;&gt;Vandenberg - Failed&lt;/div&gt;`)[0];\n                popup_beb7cba4bc4f29e6de34b60a2a5b4fb6.setContent(html_cce549b7524cb81a7e7c3e7fa3c92f6a);\n            \n        \n\n        marker_c843e02bd72d9e3f23c39abbe39e9776.bindPopup(popup_beb7cba4bc4f29e6de34b60a2a5b4fb6)\n        ;\n\n        \n    \n    \n                marker_c843e02bd72d9e3f23c39abbe39e9776.setIcon(icon_f2eedc2a96157e86844dc764623ab784);\n            \n    \n            var marker_1c33b7772b2aebf0f6954ee7d6c78ae9 = L.marker(\n                [28.5622, -80.5773],\n                {\n}\n            ).addTo(marker_cluster_d3037daef370d39c235bb1419d7e7c4f);\n        \n    \n            var icon_be31fe8f966ba7a7c8c07387f6762b72 = L.AwesomeMarkers.icon(\n                {\n  &quot;markerColor&quot;: &quot;green&quot;,\n  &quot;iconColor&quot;: &quot;white&quot;,\n  &quot;icon&quot;: &quot;info-sign&quot;,\n  &quot;prefix&quot;: &quot;glyphicon&quot;,\n  &quot;extraClasses&quot;: &quot;fa-rotate-0&quot;,\n}\n            );\n        \n    \n        var popup_621b663d0ac061ac6aa82484d508e4e4 = L.popup({\n  &quot;maxWidth&quot;: &quot;100%&quot;,\n});\n\n        \n            \n                var html_eb1cd6cf7e460ef19fac78ac500982bd = $(`&lt;div id=&quot;html_eb1cd6cf7e460ef19fac78ac500982bd&quot; style=&quot;width: 100.0%; height: 100.0%;&quot;&gt;Kennedy Space Center - Success&lt;/div&gt;`)[0];\n                popup_621b663d0ac061ac6aa82484d508e4e4.setContent(html_eb1cd6cf7e460ef19fac78ac500982bd);\n            \n        \n\n        marker_1c33b7772b2aebf0f6954ee7d6c78ae9.bindPopup(popup_621b663d0ac061ac6aa82484d508e4e4)\n        ;\n\n        \n    \n    \n                marker_1c33b7772b2aebf0f6954ee7d6c78ae9.setIcon(icon_be31fe8f966ba7a7c8c07387f6762b72);\n            \n    \n            var marker_61cc42c71bdb42dc9e1b6a3de7a01ab9 = L.marker(\n                [31.254, -110.865],\n                {\n}\n            ).addTo(marker_cluster_d3037daef370d39c235bb1419d7e7c4f);\n        \n    \n            var icon_5b7d6cfcc37704803b56086676f4949b = L.AwesomeMarkers.icon(\n                {\n  &quot;markerColor&quot;: &quot;red&quot;,\n  &quot;iconColor&quot;: &quot;white&quot;,\n  &quot;icon&quot;: &quot;info-sign&quot;,\n  &quot;prefix&quot;: &quot;glyphicon&quot;,\n  &quot;extraClasses&quot;: &quot;fa-rotate-0&quot;,\n}\n            );\n        \n    \n        var popup_1358616e9aa7f40382ba8ed3858faad5 = L.popup({\n  &quot;maxWidth&quot;: &quot;100%&quot;,\n});\n\n        \n            \n                var html_30581cba3694b3684658d5a94c554661 = $(`&lt;div id=&quot;html_30581cba3694b3684658d5a94c554661&quot; style=&quot;width: 100.0%; height: 100.0%;&quot;&gt;Launch Site 4 - Failed&lt;/div&gt;`)[0];\n                popup_1358616e9aa7f40382ba8ed3858faad5.setContent(html_30581cba3694b3684658d5a94c554661);\n            \n        \n\n        marker_61cc42c71bdb42dc9e1b6a3de7a01ab9.bindPopup(popup_1358616e9aa7f40382ba8ed3858faad5)\n        ;\n\n        \n    \n    \n                marker_61cc42c71bdb42dc9e1b6a3de7a01ab9.setIcon(icon_5b7d6cfcc37704803b56086676f4949b);\n            \n    \n            marker_cluster_d3037daef370d39c235bb1419d7e7c4f.addTo(map_bb4b96da1d6df6099ab2c373e0b5df5a);\n        \n&lt;/script&gt;\n&lt;/html&gt;\" style=\"position:absolute;width:100%;height:100%;left:0;top:0;border:none !important;\" allowfullscreen webkitallowfullscreen mozallowfullscreen></iframe></div></div>"
          },
          "metadata": {}
        }
      ],
      "execution_count": 19
    },
    {
      "cell_type": "markdown",
      "source": "Next, let's try to enhance the map by adding the launch outcomes for each site, and see which sites have high success rates.\nRecall that data frame spacex_df has detailed launch records, and the `class` column indicates if this launch was successful or not\n",
      "metadata": {}
    },
    {
      "cell_type": "code",
      "source": "spacex_df.tail(10)",
      "metadata": {
        "trusted": true
      },
      "outputs": [
        {
          "execution_count": 11,
          "output_type": "execute_result",
          "data": {
            "text/plain": "     Launch Site        Lat       Long  class\n46    KSC LC-39A  28.573255 -80.646895      1\n47    KSC LC-39A  28.573255 -80.646895      1\n48    KSC LC-39A  28.573255 -80.646895      1\n49  CCAFS SLC-40  28.563197 -80.576820      1\n50  CCAFS SLC-40  28.563197 -80.576820      1\n51  CCAFS SLC-40  28.563197 -80.576820      0\n52  CCAFS SLC-40  28.563197 -80.576820      0\n53  CCAFS SLC-40  28.563197 -80.576820      0\n54  CCAFS SLC-40  28.563197 -80.576820      1\n55  CCAFS SLC-40  28.563197 -80.576820      0",
            "text/html": "<div>\n<style scoped>\n    .dataframe tbody tr th:only-of-type {\n        vertical-align: middle;\n    }\n\n    .dataframe tbody tr th {\n        vertical-align: top;\n    }\n\n    .dataframe thead th {\n        text-align: right;\n    }\n</style>\n<table border=\"1\" class=\"dataframe\">\n  <thead>\n    <tr style=\"text-align: right;\">\n      <th></th>\n      <th>Launch Site</th>\n      <th>Lat</th>\n      <th>Long</th>\n      <th>class</th>\n    </tr>\n  </thead>\n  <tbody>\n    <tr>\n      <th>46</th>\n      <td>KSC LC-39A</td>\n      <td>28.573255</td>\n      <td>-80.646895</td>\n      <td>1</td>\n    </tr>\n    <tr>\n      <th>47</th>\n      <td>KSC LC-39A</td>\n      <td>28.573255</td>\n      <td>-80.646895</td>\n      <td>1</td>\n    </tr>\n    <tr>\n      <th>48</th>\n      <td>KSC LC-39A</td>\n      <td>28.573255</td>\n      <td>-80.646895</td>\n      <td>1</td>\n    </tr>\n    <tr>\n      <th>49</th>\n      <td>CCAFS SLC-40</td>\n      <td>28.563197</td>\n      <td>-80.576820</td>\n      <td>1</td>\n    </tr>\n    <tr>\n      <th>50</th>\n      <td>CCAFS SLC-40</td>\n      <td>28.563197</td>\n      <td>-80.576820</td>\n      <td>1</td>\n    </tr>\n    <tr>\n      <th>51</th>\n      <td>CCAFS SLC-40</td>\n      <td>28.563197</td>\n      <td>-80.576820</td>\n      <td>0</td>\n    </tr>\n    <tr>\n      <th>52</th>\n      <td>CCAFS SLC-40</td>\n      <td>28.563197</td>\n      <td>-80.576820</td>\n      <td>0</td>\n    </tr>\n    <tr>\n      <th>53</th>\n      <td>CCAFS SLC-40</td>\n      <td>28.563197</td>\n      <td>-80.576820</td>\n      <td>0</td>\n    </tr>\n    <tr>\n      <th>54</th>\n      <td>CCAFS SLC-40</td>\n      <td>28.563197</td>\n      <td>-80.576820</td>\n      <td>1</td>\n    </tr>\n    <tr>\n      <th>55</th>\n      <td>CCAFS SLC-40</td>\n      <td>28.563197</td>\n      <td>-80.576820</td>\n      <td>0</td>\n    </tr>\n  </tbody>\n</table>\n</div>"
          },
          "metadata": {}
        }
      ],
      "execution_count": 11
    },
    {
      "cell_type": "markdown",
      "source": "Next, let's create markers for all launch records.\nIf a launch was successful `(class=1)`, then we use a green marker and if a launch was failed, we use a red marker `(class=0)`\n",
      "metadata": {}
    },
    {
      "cell_type": "markdown",
      "source": "Note that a launch only happens in one of the four launch sites, which means many launch records will have the exact same coordinate. Marker clusters can be a good way to simplify a map containing many markers having the same coordinate.\n",
      "metadata": {}
    },
    {
      "cell_type": "markdown",
      "source": "Let's first create a `MarkerCluster` object\n",
      "metadata": {}
    },
    {
      "cell_type": "code",
      "source": "marker_cluster = MarkerCluster()\n",
      "metadata": {
        "trusted": true
      },
      "outputs": [],
      "execution_count": 12
    },
    {
      "cell_type": "markdown",
      "source": "*TODO:* Create a new column in `spacex_df` dataframe called `marker_color` to store the marker colors based on the `class` value\n",
      "metadata": {}
    },
    {
      "cell_type": "code",
      "source": "\n# Apply a function to check the value of `class` column\n# If class=1, marker_color value will be green\n# If class=0, marker_color value will be red\ndef assign_marker_color(launch_outcome):\n    if launch_outcome == 1:\n        return 'green'\n    else:\n        return 'red'\n    \nspacex_df['marker_color'] = spacex_df['class'].apply(assign_marker_color)\nspacex_df.tail(10)",
      "metadata": {
        "trusted": true
      },
      "outputs": [
        {
          "execution_count": 20,
          "output_type": "execute_result",
          "data": {
            "text/plain": "   Latitude  Longitude           Launch_Site  class marker_color\n0   28.5623   -80.5774        Cape Canaveral      1        green\n1   34.6329  -120.6108            Vandenberg      0          red\n2   28.5622   -80.5773  Kennedy Space Center      1        green\n3   31.2540  -110.8650         Launch Site 4      0          red",
            "text/html": "<div>\n<style scoped>\n    .dataframe tbody tr th:only-of-type {\n        vertical-align: middle;\n    }\n\n    .dataframe tbody tr th {\n        vertical-align: top;\n    }\n\n    .dataframe thead th {\n        text-align: right;\n    }\n</style>\n<table border=\"1\" class=\"dataframe\">\n  <thead>\n    <tr style=\"text-align: right;\">\n      <th></th>\n      <th>Latitude</th>\n      <th>Longitude</th>\n      <th>Launch_Site</th>\n      <th>class</th>\n      <th>marker_color</th>\n    </tr>\n  </thead>\n  <tbody>\n    <tr>\n      <th>0</th>\n      <td>28.5623</td>\n      <td>-80.5774</td>\n      <td>Cape Canaveral</td>\n      <td>1</td>\n      <td>green</td>\n    </tr>\n    <tr>\n      <th>1</th>\n      <td>34.6329</td>\n      <td>-120.6108</td>\n      <td>Vandenberg</td>\n      <td>0</td>\n      <td>red</td>\n    </tr>\n    <tr>\n      <th>2</th>\n      <td>28.5622</td>\n      <td>-80.5773</td>\n      <td>Kennedy Space Center</td>\n      <td>1</td>\n      <td>green</td>\n    </tr>\n    <tr>\n      <th>3</th>\n      <td>31.2540</td>\n      <td>-110.8650</td>\n      <td>Launch Site 4</td>\n      <td>0</td>\n      <td>red</td>\n    </tr>\n  </tbody>\n</table>\n</div>"
          },
          "metadata": {}
        }
      ],
      "execution_count": 20
    },
    {
      "cell_type": "markdown",
      "source": "*TODO:* For each launch result in `spacex_df` data frame, add a `folium.Marker` to `marker_cluster`\n",
      "metadata": {}
    },
    {
      "cell_type": "code",
      "source": "# Add marker_cluster to current site_map\nsite_map.add_child(marker_cluster)\n\n# for each row in spacex_df data frame\n# create a Marker object with its coordinate\n# and customize the Marker's icon property to indicate if this launch was successed or failed, \n# e.g., icon=folium.Icon(color='white', icon_color=row['marker_color']\nfor index, record in spacex_df.iterrows():\n    # TODO: Create and add a Marker cluster to the site map\n    # marker = folium.Marker(...)\n    marker_cluster.add_child(marker)\n\nsite_map",
      "metadata": {
        "trusted": true
      },
      "outputs": [
        {
          "execution_count": 14,
          "output_type": "execute_result",
          "data": {
            "text/plain": "<folium.folium.Map at 0x5c8a288>",
            "text/html": "<div style=\"width:100%;\"><div style=\"position:relative;width:100%;height:0;padding-bottom:60%;\"><span style=\"color:#565656\">Make this Notebook Trusted to load map: File -> Trust Notebook</span><iframe srcdoc=\"&lt;!DOCTYPE html&gt;\n&lt;html&gt;\n&lt;head&gt;\n    \n    &lt;meta http-equiv=&quot;content-type&quot; content=&quot;text/html; charset=UTF-8&quot; /&gt;\n    &lt;script src=&quot;https://cdn.jsdelivr.net/npm/leaflet@1.9.3/dist/leaflet.js&quot;&gt;&lt;/script&gt;\n    &lt;script src=&quot;https://code.jquery.com/jquery-3.7.1.min.js&quot;&gt;&lt;/script&gt;\n    &lt;script src=&quot;https://cdn.jsdelivr.net/npm/bootstrap@5.2.2/dist/js/bootstrap.bundle.min.js&quot;&gt;&lt;/script&gt;\n    &lt;script src=&quot;https://cdnjs.cloudflare.com/ajax/libs/Leaflet.awesome-markers/2.0.2/leaflet.awesome-markers.js&quot;&gt;&lt;/script&gt;\n    &lt;link rel=&quot;stylesheet&quot; href=&quot;https://cdn.jsdelivr.net/npm/leaflet@1.9.3/dist/leaflet.css&quot;/&gt;\n    &lt;link rel=&quot;stylesheet&quot; href=&quot;https://cdn.jsdelivr.net/npm/bootstrap@5.2.2/dist/css/bootstrap.min.css&quot;/&gt;\n    &lt;link rel=&quot;stylesheet&quot; href=&quot;https://netdna.bootstrapcdn.com/bootstrap/3.0.0/css/bootstrap-glyphicons.css&quot;/&gt;\n    &lt;link rel=&quot;stylesheet&quot; href=&quot;https://cdn.jsdelivr.net/npm/@fortawesome/fontawesome-free@6.2.0/css/all.min.css&quot;/&gt;\n    &lt;link rel=&quot;stylesheet&quot; href=&quot;https://cdnjs.cloudflare.com/ajax/libs/Leaflet.awesome-markers/2.0.2/leaflet.awesome-markers.css&quot;/&gt;\n    &lt;link rel=&quot;stylesheet&quot; href=&quot;https://cdn.jsdelivr.net/gh/python-visualization/folium/folium/templates/leaflet.awesome.rotate.min.css&quot;/&gt;\n    \n            &lt;meta name=&quot;viewport&quot; content=&quot;width=device-width,\n                initial-scale=1.0, maximum-scale=1.0, user-scalable=no&quot; /&gt;\n            &lt;style&gt;\n                #map_c086e0dacd0607773f8accf035f881e9 {\n                    position: relative;\n                    width: 100.0%;\n                    height: 100.0%;\n                    left: 0.0%;\n                    top: 0.0%;\n                }\n                .leaflet-container { font-size: 1rem; }\n            &lt;/style&gt;\n\n            &lt;style&gt;html, body {\n                width: 100%;\n                height: 100%;\n                margin: 0;\n                padding: 0;\n            }\n            &lt;/style&gt;\n\n            &lt;style&gt;#map {\n                position:absolute;\n                top:0;\n                bottom:0;\n                right:0;\n                left:0;\n                }\n            &lt;/style&gt;\n\n            &lt;script&gt;\n                L_NO_TOUCH = false;\n                L_DISABLE_3D = false;\n            &lt;/script&gt;\n\n        \n    &lt;script src=&quot;https://cdnjs.cloudflare.com/ajax/libs/leaflet.markercluster/1.1.0/leaflet.markercluster.js&quot;&gt;&lt;/script&gt;\n    &lt;link rel=&quot;stylesheet&quot; href=&quot;https://cdnjs.cloudflare.com/ajax/libs/leaflet.markercluster/1.1.0/MarkerCluster.css&quot;/&gt;\n    &lt;link rel=&quot;stylesheet&quot; href=&quot;https://cdnjs.cloudflare.com/ajax/libs/leaflet.markercluster/1.1.0/MarkerCluster.Default.css&quot;/&gt;\n&lt;/head&gt;\n&lt;body&gt;\n    \n    \n            &lt;div class=&quot;folium-map&quot; id=&quot;map_c086e0dacd0607773f8accf035f881e9&quot; &gt;&lt;/div&gt;\n        \n&lt;/body&gt;\n&lt;script&gt;\n    \n    \n            var map_c086e0dacd0607773f8accf035f881e9 = L.map(\n                &quot;map_c086e0dacd0607773f8accf035f881e9&quot;,\n                {\n                    center: [29.559684888503615, -95.0830971930759],\n                    crs: L.CRS.EPSG3857,\n                    ...{\n  &quot;zoom&quot;: 5,\n  &quot;zoomControl&quot;: true,\n  &quot;preferCanvas&quot;: false,\n}\n\n                }\n            );\n\n            \n\n        \n    \n            var tile_layer_5532bed8426aefb2f95577413762fc30 = L.tileLayer(\n                &quot;https://tile.openstreetmap.org/{z}/{x}/{y}.png&quot;,\n                {\n  &quot;minZoom&quot;: 0,\n  &quot;maxZoom&quot;: 19,\n  &quot;maxNativeZoom&quot;: 19,\n  &quot;noWrap&quot;: false,\n  &quot;attribution&quot;: &quot;\\u0026copy; \\u003ca href=\\&quot;https://www.openstreetmap.org/copyright\\&quot;\\u003eOpenStreetMap\\u003c/a\\u003e contributors&quot;,\n  &quot;subdomains&quot;: &quot;abc&quot;,\n  &quot;detectRetina&quot;: false,\n  &quot;tms&quot;: false,\n  &quot;opacity&quot;: 1,\n}\n\n            );\n        \n    \n            tile_layer_5532bed8426aefb2f95577413762fc30.addTo(map_c086e0dacd0607773f8accf035f881e9);\n        \n    \n            var marker_cluster_45699f237b80570d0a279b4c4323d089 = L.markerClusterGroup(\n                {\n}\n            );\n        \n    \n            var marker_45f49f532cdd8166a3209e7cabc8bdbc = L.marker(\n                [29.559684888503615, -95.0830971930759],\n                {\n}\n            ).addTo(marker_cluster_45699f237b80570d0a279b4c4323d089);\n        \n    \n            var div_icon_fe85fb1326492396cc365792939bdc2a = L.divIcon({\n  &quot;html&quot;: &quot;\\u003cdiv style=\\&quot;font-size: 12; color:#d35400;\\&quot;\\u003e\\u003cb\\u003eNASA JSC\\u003c/b\\u003e\\u003c/div\\u003e&quot;,\n  &quot;iconSize&quot;: [20, 20],\n  &quot;iconAnchor&quot;: [0, 0],\n  &quot;className&quot;: &quot;empty&quot;,\n});\n        \n    \n                marker_45f49f532cdd8166a3209e7cabc8bdbc.setIcon(div_icon_fe85fb1326492396cc365792939bdc2a);\n            \n    \n                marker_45f49f532cdd8166a3209e7cabc8bdbc.setIcon(div_icon_fe85fb1326492396cc365792939bdc2a);\n            \n    \n            marker_cluster_45699f237b80570d0a279b4c4323d089.addTo(map_c086e0dacd0607773f8accf035f881e9);\n        \n&lt;/script&gt;\n&lt;/html&gt;\" style=\"position:absolute;width:100%;height:100%;left:0;top:0;border:none !important;\" allowfullscreen webkitallowfullscreen mozallowfullscreen></iframe></div></div>"
          },
          "metadata": {}
        }
      ],
      "execution_count": 14
    },
    {
      "cell_type": "markdown",
      "source": "Your updated map may look like the following screenshots:\n",
      "metadata": {}
    },
    {
      "cell_type": "markdown",
      "source": "<center>\n    <img src=\"https://cf-courses-data.s3.us.cloud-object-storage.appdomain.cloud/IBM-DS0321EN-SkillsNetwork/labs/module_3/images/launch_site_marker_cluster.png\">\n</center>\n",
      "metadata": {}
    },
    {
      "cell_type": "markdown",
      "source": "<center>\n    <img src=\"https://cf-courses-data.s3.us.cloud-object-storage.appdomain.cloud/IBM-DS0321EN-SkillsNetwork/labs/module_3/images/launch_site_marker_cluster_zoomed.png\">\n</center>\n",
      "metadata": {}
    },
    {
      "cell_type": "markdown",
      "source": "From the color-labeled markers in marker clusters, you should be able to easily identify which launch sites have relatively high success rates.\n",
      "metadata": {}
    },
    {
      "cell_type": "code",
      "source": "# TASK 3: Calculate the distances between a launch site to its proximities\n",
      "metadata": {},
      "outputs": [],
      "execution_count": null
    },
    {
      "cell_type": "markdown",
      "source": "Next, we need to explore and analyze the proximities of launch sites.\n",
      "metadata": {}
    },
    {
      "cell_type": "markdown",
      "source": "Let's first add a `MousePosition` on the map to get coordinate for a mouse over a point on the map. As such, while you are exploring the map, you can easily find the coordinates of any points of interests (such as railway)\n",
      "metadata": {}
    },
    {
      "cell_type": "code",
      "source": "# Add Mouse Position to get the coordinate (Lat, Long) for a mouse over on the map\nformatter = \"function(num) {return L.Util.formatNum(num, 5);};\"\nmouse_position = MousePosition(\n    position='topright',\n    separator=' Long: ',\n    empty_string='NaN',\n    lng_first=False,\n    num_digits=20,\n    prefix='Lat:',\n    lat_formatter=formatter,\n    lng_formatter=formatter,\n)\n\nsite_map.add_child(mouse_position)\nsite_map",
      "metadata": {
        "trusted": true
      },
      "outputs": [
        {
          "execution_count": 15,
          "output_type": "execute_result",
          "data": {
            "text/plain": "<folium.folium.Map at 0x5c8a288>",
            "text/html": "<div style=\"width:100%;\"><div style=\"position:relative;width:100%;height:0;padding-bottom:60%;\"><span style=\"color:#565656\">Make this Notebook Trusted to load map: File -> Trust Notebook</span><iframe srcdoc=\"&lt;!DOCTYPE html&gt;\n&lt;html&gt;\n&lt;head&gt;\n    \n    &lt;meta http-equiv=&quot;content-type&quot; content=&quot;text/html; charset=UTF-8&quot; /&gt;\n    &lt;script src=&quot;https://cdn.jsdelivr.net/npm/leaflet@1.9.3/dist/leaflet.js&quot;&gt;&lt;/script&gt;\n    &lt;script src=&quot;https://code.jquery.com/jquery-3.7.1.min.js&quot;&gt;&lt;/script&gt;\n    &lt;script src=&quot;https://cdn.jsdelivr.net/npm/bootstrap@5.2.2/dist/js/bootstrap.bundle.min.js&quot;&gt;&lt;/script&gt;\n    &lt;script src=&quot;https://cdnjs.cloudflare.com/ajax/libs/Leaflet.awesome-markers/2.0.2/leaflet.awesome-markers.js&quot;&gt;&lt;/script&gt;\n    &lt;link rel=&quot;stylesheet&quot; href=&quot;https://cdn.jsdelivr.net/npm/leaflet@1.9.3/dist/leaflet.css&quot;/&gt;\n    &lt;link rel=&quot;stylesheet&quot; href=&quot;https://cdn.jsdelivr.net/npm/bootstrap@5.2.2/dist/css/bootstrap.min.css&quot;/&gt;\n    &lt;link rel=&quot;stylesheet&quot; href=&quot;https://netdna.bootstrapcdn.com/bootstrap/3.0.0/css/bootstrap-glyphicons.css&quot;/&gt;\n    &lt;link rel=&quot;stylesheet&quot; href=&quot;https://cdn.jsdelivr.net/npm/@fortawesome/fontawesome-free@6.2.0/css/all.min.css&quot;/&gt;\n    &lt;link rel=&quot;stylesheet&quot; href=&quot;https://cdnjs.cloudflare.com/ajax/libs/Leaflet.awesome-markers/2.0.2/leaflet.awesome-markers.css&quot;/&gt;\n    &lt;link rel=&quot;stylesheet&quot; href=&quot;https://cdn.jsdelivr.net/gh/python-visualization/folium/folium/templates/leaflet.awesome.rotate.min.css&quot;/&gt;\n    \n            &lt;meta name=&quot;viewport&quot; content=&quot;width=device-width,\n                initial-scale=1.0, maximum-scale=1.0, user-scalable=no&quot; /&gt;\n            &lt;style&gt;\n                #map_c086e0dacd0607773f8accf035f881e9 {\n                    position: relative;\n                    width: 100.0%;\n                    height: 100.0%;\n                    left: 0.0%;\n                    top: 0.0%;\n                }\n                .leaflet-container { font-size: 1rem; }\n            &lt;/style&gt;\n\n            &lt;style&gt;html, body {\n                width: 100%;\n                height: 100%;\n                margin: 0;\n                padding: 0;\n            }\n            &lt;/style&gt;\n\n            &lt;style&gt;#map {\n                position:absolute;\n                top:0;\n                bottom:0;\n                right:0;\n                left:0;\n                }\n            &lt;/style&gt;\n\n            &lt;script&gt;\n                L_NO_TOUCH = false;\n                L_DISABLE_3D = false;\n            &lt;/script&gt;\n\n        \n    &lt;script src=&quot;https://cdnjs.cloudflare.com/ajax/libs/leaflet.markercluster/1.1.0/leaflet.markercluster.js&quot;&gt;&lt;/script&gt;\n    &lt;link rel=&quot;stylesheet&quot; href=&quot;https://cdnjs.cloudflare.com/ajax/libs/leaflet.markercluster/1.1.0/MarkerCluster.css&quot;/&gt;\n    &lt;link rel=&quot;stylesheet&quot; href=&quot;https://cdnjs.cloudflare.com/ajax/libs/leaflet.markercluster/1.1.0/MarkerCluster.Default.css&quot;/&gt;\n    &lt;script src=&quot;https://cdn.jsdelivr.net/gh/ardhi/Leaflet.MousePosition/src/L.Control.MousePosition.min.js&quot;&gt;&lt;/script&gt;\n    &lt;link rel=&quot;stylesheet&quot; href=&quot;https://cdn.jsdelivr.net/gh/ardhi/Leaflet.MousePosition/src/L.Control.MousePosition.min.css&quot;/&gt;\n&lt;/head&gt;\n&lt;body&gt;\n    \n    \n            &lt;div class=&quot;folium-map&quot; id=&quot;map_c086e0dacd0607773f8accf035f881e9&quot; &gt;&lt;/div&gt;\n        \n&lt;/body&gt;\n&lt;script&gt;\n    \n    \n            var map_c086e0dacd0607773f8accf035f881e9 = L.map(\n                &quot;map_c086e0dacd0607773f8accf035f881e9&quot;,\n                {\n                    center: [29.559684888503615, -95.0830971930759],\n                    crs: L.CRS.EPSG3857,\n                    ...{\n  &quot;zoom&quot;: 5,\n  &quot;zoomControl&quot;: true,\n  &quot;preferCanvas&quot;: false,\n}\n\n                }\n            );\n\n            \n\n        \n    \n            var tile_layer_5532bed8426aefb2f95577413762fc30 = L.tileLayer(\n                &quot;https://tile.openstreetmap.org/{z}/{x}/{y}.png&quot;,\n                {\n  &quot;minZoom&quot;: 0,\n  &quot;maxZoom&quot;: 19,\n  &quot;maxNativeZoom&quot;: 19,\n  &quot;noWrap&quot;: false,\n  &quot;attribution&quot;: &quot;\\u0026copy; \\u003ca href=\\&quot;https://www.openstreetmap.org/copyright\\&quot;\\u003eOpenStreetMap\\u003c/a\\u003e contributors&quot;,\n  &quot;subdomains&quot;: &quot;abc&quot;,\n  &quot;detectRetina&quot;: false,\n  &quot;tms&quot;: false,\n  &quot;opacity&quot;: 1,\n}\n\n            );\n        \n    \n            tile_layer_5532bed8426aefb2f95577413762fc30.addTo(map_c086e0dacd0607773f8accf035f881e9);\n        \n    \n            var marker_cluster_45699f237b80570d0a279b4c4323d089 = L.markerClusterGroup(\n                {\n}\n            );\n        \n    \n            var marker_45f49f532cdd8166a3209e7cabc8bdbc = L.marker(\n                [29.559684888503615, -95.0830971930759],\n                {\n}\n            ).addTo(marker_cluster_45699f237b80570d0a279b4c4323d089);\n        \n    \n            var div_icon_fe85fb1326492396cc365792939bdc2a = L.divIcon({\n  &quot;html&quot;: &quot;\\u003cdiv style=\\&quot;font-size: 12; color:#d35400;\\&quot;\\u003e\\u003cb\\u003eNASA JSC\\u003c/b\\u003e\\u003c/div\\u003e&quot;,\n  &quot;iconSize&quot;: [20, 20],\n  &quot;iconAnchor&quot;: [0, 0],\n  &quot;className&quot;: &quot;empty&quot;,\n});\n        \n    \n                marker_45f49f532cdd8166a3209e7cabc8bdbc.setIcon(div_icon_fe85fb1326492396cc365792939bdc2a);\n            \n    \n                marker_45f49f532cdd8166a3209e7cabc8bdbc.setIcon(div_icon_fe85fb1326492396cc365792939bdc2a);\n            \n    \n            marker_cluster_45699f237b80570d0a279b4c4323d089.addTo(map_c086e0dacd0607773f8accf035f881e9);\n        \n    \n            tile_layer_5532bed8426aefb2f95577413762fc30.addTo(map_c086e0dacd0607773f8accf035f881e9);\n        \n    \n                marker_45f49f532cdd8166a3209e7cabc8bdbc.setIcon(div_icon_fe85fb1326492396cc365792939bdc2a);\n            \n    \n            marker_cluster_45699f237b80570d0a279b4c4323d089.addTo(map_c086e0dacd0607773f8accf035f881e9);\n        \n    \n            var mouse_position_c953ccea27d4dc25d475d19533b131e5 = new L.Control.MousePosition(\n                {\n  &quot;position&quot;: &quot;topright&quot;,\n  &quot;separator&quot;: &quot; Long: &quot;,\n  &quot;emptyString&quot;: &quot;NaN&quot;,\n  &quot;lngFirst&quot;: false,\n  &quot;numDigits&quot;: 20,\n  &quot;prefix&quot;: &quot;Lat:&quot;,\n}\n            );\n            mouse_position_c953ccea27d4dc25d475d19533b131e5.options[&quot;latFormatter&quot;] =\n                function(num) {return L.Util.formatNum(num, 5);};;\n            mouse_position_c953ccea27d4dc25d475d19533b131e5.options[&quot;lngFormatter&quot;] =\n                function(num) {return L.Util.formatNum(num, 5);};;\n            map_c086e0dacd0607773f8accf035f881e9.addControl(mouse_position_c953ccea27d4dc25d475d19533b131e5);\n        \n&lt;/script&gt;\n&lt;/html&gt;\" style=\"position:absolute;width:100%;height:100%;left:0;top:0;border:none !important;\" allowfullscreen webkitallowfullscreen mozallowfullscreen></iframe></div></div>"
          },
          "metadata": {}
        }
      ],
      "execution_count": 15
    },
    {
      "cell_type": "markdown",
      "source": "Now zoom in to a launch site and explore its proximity to see if you can easily find any railway, highway, coastline, etc. Move your mouse to these points and mark down their coordinates (shown on the top-left) in order to the distance to the launch site.\n",
      "metadata": {}
    },
    {
      "cell_type": "markdown",
      "source": "Now zoom in to a launch site and explore its proximity to see if you can easily find any railway, highway, coastline, etc. Move your mouse to these points and mark down their coordinates (shown on the top-left) in order to the distance to the launch site.\n",
      "metadata": {}
    },
    {
      "cell_type": "code",
      "source": "from math import sin, cos, sqrt, atan2, radians\n\ndef calculate_distance(lat1, lon1, lat2, lon2):\n    # approximate radius of earth in km\n    R = 6373.0\n\n    lat1 = radians(lat1)\n    lon1 = radians(lon1)\n    lat2 = radians(lat2)\n    lon2 = radians(lon2)\n\n    dlon = lon2 - lon1\n    dlat = lat2 - lat1\n\n    a = sin(dlat / 2)**2 + cos(lat1) * cos(lat2) * sin(dlon / 2)**2\n    c = 2 * atan2(sqrt(a), sqrt(1 - a))\n\n    distance = R * c\n    return distance",
      "metadata": {
        "trusted": true
      },
      "outputs": [],
      "execution_count": 21
    },
    {
      "cell_type": "markdown",
      "source": "*TODO:* Mark down a point on the closest coastline using MousePosition and calculate the distance between the coastline point and the launch site.\n",
      "metadata": {}
    },
    {
      "cell_type": "code",
      "source": "# find coordinate of the closet coastline\n# e.g.,: Lat: 28.56367  Lon: -80.57163\n# distance_coastline = calculate_distance(launch_site_lat, launch_site_lon, coastline_lat, coastline_lon)\n",
      "metadata": {
        "trusted": true
      },
      "outputs": [],
      "execution_count": 23
    },
    {
      "cell_type": "code",
      "source": "# Create and add a folium.Marker on your selected closest coastline point on the map\n# Display the distance between coastline point and launch site using the icon property \n# for example\n# distance_marker = folium.Marker(\n#    coordinate,\n#    icon=DivIcon(\n#        icon_size=(20,20),\n#        icon_anchor=(0,0),\n#        html='<div style=\"font-size: 12; color:#d35400;\"><b>%s</b></div>' % \"{:10.2f} KM\".format(distance),\n#        )\n#    )\n\ncoordinates = [\n    [28.56342, -80.57674],\n    [28.56342, -80.56756]]\n\nlines=folium.PolyLine(locations=coordinates, weight=1)\nsite_map.add_child(lines)\ndistance = calculate_distance(coordinates[0][0], coordinates[0][1], coordinates[1][0], coordinates[1][1])\ndistance_circle = folium.Marker(\n    [28.56342, -80.56794],\n    icon=DivIcon(\n        icon_size=(20,20),\n        icon_anchor=(0,0),\n        html='<div style=\"font-size: 12; color:#d35400;\"><b>%s</b></div>' % \"{:10.2f} KM\".format(distance),\n        )\n    )\nsite_map.add_child(distance_circle)\nsite_map",
      "metadata": {
        "trusted": true
      },
      "outputs": [
        {
          "execution_count": 24,
          "output_type": "execute_result",
          "data": {
            "text/plain": "<folium.folium.Map at 0x60524b0>",
            "text/html": "<div style=\"width:100%;\"><div style=\"position:relative;width:100%;height:0;padding-bottom:60%;\"><span style=\"color:#565656\">Make this Notebook Trusted to load map: File -> Trust Notebook</span><iframe srcdoc=\"&lt;!DOCTYPE html&gt;\n&lt;html&gt;\n&lt;head&gt;\n    \n    &lt;meta http-equiv=&quot;content-type&quot; content=&quot;text/html; charset=UTF-8&quot; /&gt;\n    &lt;script src=&quot;https://cdn.jsdelivr.net/npm/leaflet@1.9.3/dist/leaflet.js&quot;&gt;&lt;/script&gt;\n    &lt;script src=&quot;https://code.jquery.com/jquery-3.7.1.min.js&quot;&gt;&lt;/script&gt;\n    &lt;script src=&quot;https://cdn.jsdelivr.net/npm/bootstrap@5.2.2/dist/js/bootstrap.bundle.min.js&quot;&gt;&lt;/script&gt;\n    &lt;script src=&quot;https://cdnjs.cloudflare.com/ajax/libs/Leaflet.awesome-markers/2.0.2/leaflet.awesome-markers.js&quot;&gt;&lt;/script&gt;\n    &lt;link rel=&quot;stylesheet&quot; href=&quot;https://cdn.jsdelivr.net/npm/leaflet@1.9.3/dist/leaflet.css&quot;/&gt;\n    &lt;link rel=&quot;stylesheet&quot; href=&quot;https://cdn.jsdelivr.net/npm/bootstrap@5.2.2/dist/css/bootstrap.min.css&quot;/&gt;\n    &lt;link rel=&quot;stylesheet&quot; href=&quot;https://netdna.bootstrapcdn.com/bootstrap/3.0.0/css/bootstrap-glyphicons.css&quot;/&gt;\n    &lt;link rel=&quot;stylesheet&quot; href=&quot;https://cdn.jsdelivr.net/npm/@fortawesome/fontawesome-free@6.2.0/css/all.min.css&quot;/&gt;\n    &lt;link rel=&quot;stylesheet&quot; href=&quot;https://cdnjs.cloudflare.com/ajax/libs/Leaflet.awesome-markers/2.0.2/leaflet.awesome-markers.css&quot;/&gt;\n    &lt;link rel=&quot;stylesheet&quot; href=&quot;https://cdn.jsdelivr.net/gh/python-visualization/folium/folium/templates/leaflet.awesome.rotate.min.css&quot;/&gt;\n    \n            &lt;meta name=&quot;viewport&quot; content=&quot;width=device-width,\n                initial-scale=1.0, maximum-scale=1.0, user-scalable=no&quot; /&gt;\n            &lt;style&gt;\n                #map_bb4b96da1d6df6099ab2c373e0b5df5a {\n                    position: relative;\n                    width: 100.0%;\n                    height: 100.0%;\n                    left: 0.0%;\n                    top: 0.0%;\n                }\n                .leaflet-container { font-size: 1rem; }\n            &lt;/style&gt;\n\n            &lt;style&gt;html, body {\n                width: 100%;\n                height: 100%;\n                margin: 0;\n                padding: 0;\n            }\n            &lt;/style&gt;\n\n            &lt;style&gt;#map {\n                position:absolute;\n                top:0;\n                bottom:0;\n                right:0;\n                left:0;\n                }\n            &lt;/style&gt;\n\n            &lt;script&gt;\n                L_NO_TOUCH = false;\n                L_DISABLE_3D = false;\n            &lt;/script&gt;\n\n        \n    &lt;script src=&quot;https://cdnjs.cloudflare.com/ajax/libs/leaflet.markercluster/1.1.0/leaflet.markercluster.js&quot;&gt;&lt;/script&gt;\n    &lt;link rel=&quot;stylesheet&quot; href=&quot;https://cdnjs.cloudflare.com/ajax/libs/leaflet.markercluster/1.1.0/MarkerCluster.css&quot;/&gt;\n    &lt;link rel=&quot;stylesheet&quot; href=&quot;https://cdnjs.cloudflare.com/ajax/libs/leaflet.markercluster/1.1.0/MarkerCluster.Default.css&quot;/&gt;\n&lt;/head&gt;\n&lt;body&gt;\n    \n    \n            &lt;div class=&quot;folium-map&quot; id=&quot;map_bb4b96da1d6df6099ab2c373e0b5df5a&quot; &gt;&lt;/div&gt;\n        \n&lt;/body&gt;\n&lt;script&gt;\n    \n    \n            var map_bb4b96da1d6df6099ab2c373e0b5df5a = L.map(\n                &quot;map_bb4b96da1d6df6099ab2c373e0b5df5a&quot;,\n                {\n                    center: [29.559684888503615, -95.0830971930759],\n                    crs: L.CRS.EPSG3857,\n                    ...{\n  &quot;zoom&quot;: 5,\n  &quot;zoomControl&quot;: true,\n  &quot;preferCanvas&quot;: false,\n}\n\n                }\n            );\n\n            \n\n        \n    \n            var tile_layer_05f7a2072e74bced898ea9efebba25eb = L.tileLayer(\n                &quot;https://tile.openstreetmap.org/{z}/{x}/{y}.png&quot;,\n                {\n  &quot;minZoom&quot;: 0,\n  &quot;maxZoom&quot;: 19,\n  &quot;maxNativeZoom&quot;: 19,\n  &quot;noWrap&quot;: false,\n  &quot;attribution&quot;: &quot;\\u0026copy; \\u003ca href=\\&quot;https://www.openstreetmap.org/copyright\\&quot;\\u003eOpenStreetMap\\u003c/a\\u003e contributors&quot;,\n  &quot;subdomains&quot;: &quot;abc&quot;,\n  &quot;detectRetina&quot;: false,\n  &quot;tms&quot;: false,\n  &quot;opacity&quot;: 1,\n}\n\n            );\n        \n    \n            tile_layer_05f7a2072e74bced898ea9efebba25eb.addTo(map_bb4b96da1d6df6099ab2c373e0b5df5a);\n        \n    \n            var marker_cluster_d3037daef370d39c235bb1419d7e7c4f = L.markerClusterGroup(\n                {\n}\n            );\n        \n    \n            var marker_8c3d65ce90438c951e33b3d830bc8cd7 = L.marker(\n                [28.5623, -80.5774],\n                {\n}\n            ).addTo(marker_cluster_d3037daef370d39c235bb1419d7e7c4f);\n        \n    \n            var icon_3fcfd202f78b12fd89822d8b1f7c0aec = L.AwesomeMarkers.icon(\n                {\n  &quot;markerColor&quot;: &quot;green&quot;,\n  &quot;iconColor&quot;: &quot;white&quot;,\n  &quot;icon&quot;: &quot;info-sign&quot;,\n  &quot;prefix&quot;: &quot;glyphicon&quot;,\n  &quot;extraClasses&quot;: &quot;fa-rotate-0&quot;,\n}\n            );\n        \n    \n        var popup_890aaaedeac35a7b3e0ab0a8b5ba2c08 = L.popup({\n  &quot;maxWidth&quot;: &quot;100%&quot;,\n});\n\n        \n            \n                var html_b58440ff7f1ee517e4b055d4d377ba2e = $(`&lt;div id=&quot;html_b58440ff7f1ee517e4b055d4d377ba2e&quot; style=&quot;width: 100.0%; height: 100.0%;&quot;&gt;Cape Canaveral - Success&lt;/div&gt;`)[0];\n                popup_890aaaedeac35a7b3e0ab0a8b5ba2c08.setContent(html_b58440ff7f1ee517e4b055d4d377ba2e);\n            \n        \n\n        marker_8c3d65ce90438c951e33b3d830bc8cd7.bindPopup(popup_890aaaedeac35a7b3e0ab0a8b5ba2c08)\n        ;\n\n        \n    \n    \n                marker_8c3d65ce90438c951e33b3d830bc8cd7.setIcon(icon_3fcfd202f78b12fd89822d8b1f7c0aec);\n            \n    \n            var marker_c843e02bd72d9e3f23c39abbe39e9776 = L.marker(\n                [34.6329, -120.6108],\n                {\n}\n            ).addTo(marker_cluster_d3037daef370d39c235bb1419d7e7c4f);\n        \n    \n            var icon_f2eedc2a96157e86844dc764623ab784 = L.AwesomeMarkers.icon(\n                {\n  &quot;markerColor&quot;: &quot;red&quot;,\n  &quot;iconColor&quot;: &quot;white&quot;,\n  &quot;icon&quot;: &quot;info-sign&quot;,\n  &quot;prefix&quot;: &quot;glyphicon&quot;,\n  &quot;extraClasses&quot;: &quot;fa-rotate-0&quot;,\n}\n            );\n        \n    \n        var popup_beb7cba4bc4f29e6de34b60a2a5b4fb6 = L.popup({\n  &quot;maxWidth&quot;: &quot;100%&quot;,\n});\n\n        \n            \n                var html_cce549b7524cb81a7e7c3e7fa3c92f6a = $(`&lt;div id=&quot;html_cce549b7524cb81a7e7c3e7fa3c92f6a&quot; style=&quot;width: 100.0%; height: 100.0%;&quot;&gt;Vandenberg - Failed&lt;/div&gt;`)[0];\n                popup_beb7cba4bc4f29e6de34b60a2a5b4fb6.setContent(html_cce549b7524cb81a7e7c3e7fa3c92f6a);\n            \n        \n\n        marker_c843e02bd72d9e3f23c39abbe39e9776.bindPopup(popup_beb7cba4bc4f29e6de34b60a2a5b4fb6)\n        ;\n\n        \n    \n    \n                marker_c843e02bd72d9e3f23c39abbe39e9776.setIcon(icon_f2eedc2a96157e86844dc764623ab784);\n            \n    \n            var marker_1c33b7772b2aebf0f6954ee7d6c78ae9 = L.marker(\n                [28.5622, -80.5773],\n                {\n}\n            ).addTo(marker_cluster_d3037daef370d39c235bb1419d7e7c4f);\n        \n    \n            var icon_be31fe8f966ba7a7c8c07387f6762b72 = L.AwesomeMarkers.icon(\n                {\n  &quot;markerColor&quot;: &quot;green&quot;,\n  &quot;iconColor&quot;: &quot;white&quot;,\n  &quot;icon&quot;: &quot;info-sign&quot;,\n  &quot;prefix&quot;: &quot;glyphicon&quot;,\n  &quot;extraClasses&quot;: &quot;fa-rotate-0&quot;,\n}\n            );\n        \n    \n        var popup_621b663d0ac061ac6aa82484d508e4e4 = L.popup({\n  &quot;maxWidth&quot;: &quot;100%&quot;,\n});\n\n        \n            \n                var html_eb1cd6cf7e460ef19fac78ac500982bd = $(`&lt;div id=&quot;html_eb1cd6cf7e460ef19fac78ac500982bd&quot; style=&quot;width: 100.0%; height: 100.0%;&quot;&gt;Kennedy Space Center - Success&lt;/div&gt;`)[0];\n                popup_621b663d0ac061ac6aa82484d508e4e4.setContent(html_eb1cd6cf7e460ef19fac78ac500982bd);\n            \n        \n\n        marker_1c33b7772b2aebf0f6954ee7d6c78ae9.bindPopup(popup_621b663d0ac061ac6aa82484d508e4e4)\n        ;\n\n        \n    \n    \n                marker_1c33b7772b2aebf0f6954ee7d6c78ae9.setIcon(icon_be31fe8f966ba7a7c8c07387f6762b72);\n            \n    \n            var marker_61cc42c71bdb42dc9e1b6a3de7a01ab9 = L.marker(\n                [31.254, -110.865],\n                {\n}\n            ).addTo(marker_cluster_d3037daef370d39c235bb1419d7e7c4f);\n        \n    \n            var icon_5b7d6cfcc37704803b56086676f4949b = L.AwesomeMarkers.icon(\n                {\n  &quot;markerColor&quot;: &quot;red&quot;,\n  &quot;iconColor&quot;: &quot;white&quot;,\n  &quot;icon&quot;: &quot;info-sign&quot;,\n  &quot;prefix&quot;: &quot;glyphicon&quot;,\n  &quot;extraClasses&quot;: &quot;fa-rotate-0&quot;,\n}\n            );\n        \n    \n        var popup_1358616e9aa7f40382ba8ed3858faad5 = L.popup({\n  &quot;maxWidth&quot;: &quot;100%&quot;,\n});\n\n        \n            \n                var html_30581cba3694b3684658d5a94c554661 = $(`&lt;div id=&quot;html_30581cba3694b3684658d5a94c554661&quot; style=&quot;width: 100.0%; height: 100.0%;&quot;&gt;Launch Site 4 - Failed&lt;/div&gt;`)[0];\n                popup_1358616e9aa7f40382ba8ed3858faad5.setContent(html_30581cba3694b3684658d5a94c554661);\n            \n        \n\n        marker_61cc42c71bdb42dc9e1b6a3de7a01ab9.bindPopup(popup_1358616e9aa7f40382ba8ed3858faad5)\n        ;\n\n        \n    \n    \n                marker_61cc42c71bdb42dc9e1b6a3de7a01ab9.setIcon(icon_5b7d6cfcc37704803b56086676f4949b);\n            \n    \n            marker_cluster_d3037daef370d39c235bb1419d7e7c4f.addTo(map_bb4b96da1d6df6099ab2c373e0b5df5a);\n        \n    \n            tile_layer_05f7a2072e74bced898ea9efebba25eb.addTo(map_bb4b96da1d6df6099ab2c373e0b5df5a);\n        \n    \n                marker_8c3d65ce90438c951e33b3d830bc8cd7.setIcon(icon_3fcfd202f78b12fd89822d8b1f7c0aec);\n            \n    \n                marker_c843e02bd72d9e3f23c39abbe39e9776.setIcon(icon_f2eedc2a96157e86844dc764623ab784);\n            \n    \n                marker_1c33b7772b2aebf0f6954ee7d6c78ae9.setIcon(icon_be31fe8f966ba7a7c8c07387f6762b72);\n            \n    \n                marker_61cc42c71bdb42dc9e1b6a3de7a01ab9.setIcon(icon_5b7d6cfcc37704803b56086676f4949b);\n            \n    \n            marker_cluster_d3037daef370d39c235bb1419d7e7c4f.addTo(map_bb4b96da1d6df6099ab2c373e0b5df5a);\n        \n    \n            var poly_line_ac660a1b7711ab42549e9cb944de8835 = L.polyline(\n                [[28.56342, -80.57674], [28.56342, -80.56756]],\n                {&quot;bubblingMouseEvents&quot;: true, &quot;color&quot;: &quot;#3388ff&quot;, &quot;dashArray&quot;: null, &quot;dashOffset&quot;: null, &quot;fill&quot;: false, &quot;fillColor&quot;: &quot;#3388ff&quot;, &quot;fillOpacity&quot;: 0.2, &quot;fillRule&quot;: &quot;evenodd&quot;, &quot;lineCap&quot;: &quot;round&quot;, &quot;lineJoin&quot;: &quot;round&quot;, &quot;noClip&quot;: false, &quot;opacity&quot;: 1.0, &quot;smoothFactor&quot;: 1.0, &quot;stroke&quot;: true, &quot;weight&quot;: 1}\n            ).addTo(map_bb4b96da1d6df6099ab2c373e0b5df5a);\n        \n    \n            var marker_7a2bdddd85370e42f2cf7708ba46dee9 = L.marker(\n                [28.56342, -80.56794],\n                {\n}\n            ).addTo(map_bb4b96da1d6df6099ab2c373e0b5df5a);\n        \n    \n            var div_icon_9fea440cbd32091de23bc9ce3224fb95 = L.divIcon({\n  &quot;html&quot;: &quot;\\u003cdiv style=\\&quot;font-size: 12; color:#d35400;\\&quot;\\u003e\\u003cb\\u003e      0.90 KM\\u003c/b\\u003e\\u003c/div\\u003e&quot;,\n  &quot;iconSize&quot;: [20, 20],\n  &quot;iconAnchor&quot;: [0, 0],\n  &quot;className&quot;: &quot;empty&quot;,\n});\n        \n    \n                marker_7a2bdddd85370e42f2cf7708ba46dee9.setIcon(div_icon_9fea440cbd32091de23bc9ce3224fb95);\n            \n&lt;/script&gt;\n&lt;/html&gt;\" style=\"position:absolute;width:100%;height:100%;left:0;top:0;border:none !important;\" allowfullscreen webkitallowfullscreen mozallowfullscreen></iframe></div></div>"
          },
          "metadata": {}
        }
      ],
      "execution_count": 24
    },
    {
      "cell_type": "markdown",
      "source": "*TODO:* Draw a `PolyLine` between a launch site to the selected coastline point\n",
      "metadata": {}
    },
    {
      "cell_type": "code",
      "source": "# Create a `folium.PolyLine` object using the coastline coordinates and launch site coordinate\n# lines=folium.PolyLine(locations=coordinates, weight=1)\nsite_map.add_child(lines)",
      "metadata": {
        "trusted": true
      },
      "outputs": [
        {
          "execution_count": 25,
          "output_type": "execute_result",
          "data": {
            "text/plain": "<folium.folium.Map at 0x60524b0>",
            "text/html": "<div style=\"width:100%;\"><div style=\"position:relative;width:100%;height:0;padding-bottom:60%;\"><span style=\"color:#565656\">Make this Notebook Trusted to load map: File -> Trust Notebook</span><iframe srcdoc=\"&lt;!DOCTYPE html&gt;\n&lt;html&gt;\n&lt;head&gt;\n    \n    &lt;meta http-equiv=&quot;content-type&quot; content=&quot;text/html; charset=UTF-8&quot; /&gt;\n    &lt;script src=&quot;https://cdn.jsdelivr.net/npm/leaflet@1.9.3/dist/leaflet.js&quot;&gt;&lt;/script&gt;\n    &lt;script src=&quot;https://code.jquery.com/jquery-3.7.1.min.js&quot;&gt;&lt;/script&gt;\n    &lt;script src=&quot;https://cdn.jsdelivr.net/npm/bootstrap@5.2.2/dist/js/bootstrap.bundle.min.js&quot;&gt;&lt;/script&gt;\n    &lt;script src=&quot;https://cdnjs.cloudflare.com/ajax/libs/Leaflet.awesome-markers/2.0.2/leaflet.awesome-markers.js&quot;&gt;&lt;/script&gt;\n    &lt;link rel=&quot;stylesheet&quot; href=&quot;https://cdn.jsdelivr.net/npm/leaflet@1.9.3/dist/leaflet.css&quot;/&gt;\n    &lt;link rel=&quot;stylesheet&quot; href=&quot;https://cdn.jsdelivr.net/npm/bootstrap@5.2.2/dist/css/bootstrap.min.css&quot;/&gt;\n    &lt;link rel=&quot;stylesheet&quot; href=&quot;https://netdna.bootstrapcdn.com/bootstrap/3.0.0/css/bootstrap-glyphicons.css&quot;/&gt;\n    &lt;link rel=&quot;stylesheet&quot; href=&quot;https://cdn.jsdelivr.net/npm/@fortawesome/fontawesome-free@6.2.0/css/all.min.css&quot;/&gt;\n    &lt;link rel=&quot;stylesheet&quot; href=&quot;https://cdnjs.cloudflare.com/ajax/libs/Leaflet.awesome-markers/2.0.2/leaflet.awesome-markers.css&quot;/&gt;\n    &lt;link rel=&quot;stylesheet&quot; href=&quot;https://cdn.jsdelivr.net/gh/python-visualization/folium/folium/templates/leaflet.awesome.rotate.min.css&quot;/&gt;\n    \n            &lt;meta name=&quot;viewport&quot; content=&quot;width=device-width,\n                initial-scale=1.0, maximum-scale=1.0, user-scalable=no&quot; /&gt;\n            &lt;style&gt;\n                #map_bb4b96da1d6df6099ab2c373e0b5df5a {\n                    position: relative;\n                    width: 100.0%;\n                    height: 100.0%;\n                    left: 0.0%;\n                    top: 0.0%;\n                }\n                .leaflet-container { font-size: 1rem; }\n            &lt;/style&gt;\n\n            &lt;style&gt;html, body {\n                width: 100%;\n                height: 100%;\n                margin: 0;\n                padding: 0;\n            }\n            &lt;/style&gt;\n\n            &lt;style&gt;#map {\n                position:absolute;\n                top:0;\n                bottom:0;\n                right:0;\n                left:0;\n                }\n            &lt;/style&gt;\n\n            &lt;script&gt;\n                L_NO_TOUCH = false;\n                L_DISABLE_3D = false;\n            &lt;/script&gt;\n\n        \n    &lt;script src=&quot;https://cdnjs.cloudflare.com/ajax/libs/leaflet.markercluster/1.1.0/leaflet.markercluster.js&quot;&gt;&lt;/script&gt;\n    &lt;link rel=&quot;stylesheet&quot; href=&quot;https://cdnjs.cloudflare.com/ajax/libs/leaflet.markercluster/1.1.0/MarkerCluster.css&quot;/&gt;\n    &lt;link rel=&quot;stylesheet&quot; href=&quot;https://cdnjs.cloudflare.com/ajax/libs/leaflet.markercluster/1.1.0/MarkerCluster.Default.css&quot;/&gt;\n&lt;/head&gt;\n&lt;body&gt;\n    \n    \n            &lt;div class=&quot;folium-map&quot; id=&quot;map_bb4b96da1d6df6099ab2c373e0b5df5a&quot; &gt;&lt;/div&gt;\n        \n&lt;/body&gt;\n&lt;script&gt;\n    \n    \n            var map_bb4b96da1d6df6099ab2c373e0b5df5a = L.map(\n                &quot;map_bb4b96da1d6df6099ab2c373e0b5df5a&quot;,\n                {\n                    center: [29.559684888503615, -95.0830971930759],\n                    crs: L.CRS.EPSG3857,\n                    ...{\n  &quot;zoom&quot;: 5,\n  &quot;zoomControl&quot;: true,\n  &quot;preferCanvas&quot;: false,\n}\n\n                }\n            );\n\n            \n\n        \n    \n            var tile_layer_05f7a2072e74bced898ea9efebba25eb = L.tileLayer(\n                &quot;https://tile.openstreetmap.org/{z}/{x}/{y}.png&quot;,\n                {\n  &quot;minZoom&quot;: 0,\n  &quot;maxZoom&quot;: 19,\n  &quot;maxNativeZoom&quot;: 19,\n  &quot;noWrap&quot;: false,\n  &quot;attribution&quot;: &quot;\\u0026copy; \\u003ca href=\\&quot;https://www.openstreetmap.org/copyright\\&quot;\\u003eOpenStreetMap\\u003c/a\\u003e contributors&quot;,\n  &quot;subdomains&quot;: &quot;abc&quot;,\n  &quot;detectRetina&quot;: false,\n  &quot;tms&quot;: false,\n  &quot;opacity&quot;: 1,\n}\n\n            );\n        \n    \n            tile_layer_05f7a2072e74bced898ea9efebba25eb.addTo(map_bb4b96da1d6df6099ab2c373e0b5df5a);\n        \n    \n            var marker_cluster_d3037daef370d39c235bb1419d7e7c4f = L.markerClusterGroup(\n                {\n}\n            );\n        \n    \n            var marker_8c3d65ce90438c951e33b3d830bc8cd7 = L.marker(\n                [28.5623, -80.5774],\n                {\n}\n            ).addTo(marker_cluster_d3037daef370d39c235bb1419d7e7c4f);\n        \n    \n            var icon_3fcfd202f78b12fd89822d8b1f7c0aec = L.AwesomeMarkers.icon(\n                {\n  &quot;markerColor&quot;: &quot;green&quot;,\n  &quot;iconColor&quot;: &quot;white&quot;,\n  &quot;icon&quot;: &quot;info-sign&quot;,\n  &quot;prefix&quot;: &quot;glyphicon&quot;,\n  &quot;extraClasses&quot;: &quot;fa-rotate-0&quot;,\n}\n            );\n        \n    \n        var popup_890aaaedeac35a7b3e0ab0a8b5ba2c08 = L.popup({\n  &quot;maxWidth&quot;: &quot;100%&quot;,\n});\n\n        \n            \n                var html_b58440ff7f1ee517e4b055d4d377ba2e = $(`&lt;div id=&quot;html_b58440ff7f1ee517e4b055d4d377ba2e&quot; style=&quot;width: 100.0%; height: 100.0%;&quot;&gt;Cape Canaveral - Success&lt;/div&gt;`)[0];\n                popup_890aaaedeac35a7b3e0ab0a8b5ba2c08.setContent(html_b58440ff7f1ee517e4b055d4d377ba2e);\n            \n        \n\n        marker_8c3d65ce90438c951e33b3d830bc8cd7.bindPopup(popup_890aaaedeac35a7b3e0ab0a8b5ba2c08)\n        ;\n\n        \n    \n    \n                marker_8c3d65ce90438c951e33b3d830bc8cd7.setIcon(icon_3fcfd202f78b12fd89822d8b1f7c0aec);\n            \n    \n            var marker_c843e02bd72d9e3f23c39abbe39e9776 = L.marker(\n                [34.6329, -120.6108],\n                {\n}\n            ).addTo(marker_cluster_d3037daef370d39c235bb1419d7e7c4f);\n        \n    \n            var icon_f2eedc2a96157e86844dc764623ab784 = L.AwesomeMarkers.icon(\n                {\n  &quot;markerColor&quot;: &quot;red&quot;,\n  &quot;iconColor&quot;: &quot;white&quot;,\n  &quot;icon&quot;: &quot;info-sign&quot;,\n  &quot;prefix&quot;: &quot;glyphicon&quot;,\n  &quot;extraClasses&quot;: &quot;fa-rotate-0&quot;,\n}\n            );\n        \n    \n        var popup_beb7cba4bc4f29e6de34b60a2a5b4fb6 = L.popup({\n  &quot;maxWidth&quot;: &quot;100%&quot;,\n});\n\n        \n            \n                var html_cce549b7524cb81a7e7c3e7fa3c92f6a = $(`&lt;div id=&quot;html_cce549b7524cb81a7e7c3e7fa3c92f6a&quot; style=&quot;width: 100.0%; height: 100.0%;&quot;&gt;Vandenberg - Failed&lt;/div&gt;`)[0];\n                popup_beb7cba4bc4f29e6de34b60a2a5b4fb6.setContent(html_cce549b7524cb81a7e7c3e7fa3c92f6a);\n            \n        \n\n        marker_c843e02bd72d9e3f23c39abbe39e9776.bindPopup(popup_beb7cba4bc4f29e6de34b60a2a5b4fb6)\n        ;\n\n        \n    \n    \n                marker_c843e02bd72d9e3f23c39abbe39e9776.setIcon(icon_f2eedc2a96157e86844dc764623ab784);\n            \n    \n            var marker_1c33b7772b2aebf0f6954ee7d6c78ae9 = L.marker(\n                [28.5622, -80.5773],\n                {\n}\n            ).addTo(marker_cluster_d3037daef370d39c235bb1419d7e7c4f);\n        \n    \n            var icon_be31fe8f966ba7a7c8c07387f6762b72 = L.AwesomeMarkers.icon(\n                {\n  &quot;markerColor&quot;: &quot;green&quot;,\n  &quot;iconColor&quot;: &quot;white&quot;,\n  &quot;icon&quot;: &quot;info-sign&quot;,\n  &quot;prefix&quot;: &quot;glyphicon&quot;,\n  &quot;extraClasses&quot;: &quot;fa-rotate-0&quot;,\n}\n            );\n        \n    \n        var popup_621b663d0ac061ac6aa82484d508e4e4 = L.popup({\n  &quot;maxWidth&quot;: &quot;100%&quot;,\n});\n\n        \n            \n                var html_eb1cd6cf7e460ef19fac78ac500982bd = $(`&lt;div id=&quot;html_eb1cd6cf7e460ef19fac78ac500982bd&quot; style=&quot;width: 100.0%; height: 100.0%;&quot;&gt;Kennedy Space Center - Success&lt;/div&gt;`)[0];\n                popup_621b663d0ac061ac6aa82484d508e4e4.setContent(html_eb1cd6cf7e460ef19fac78ac500982bd);\n            \n        \n\n        marker_1c33b7772b2aebf0f6954ee7d6c78ae9.bindPopup(popup_621b663d0ac061ac6aa82484d508e4e4)\n        ;\n\n        \n    \n    \n                marker_1c33b7772b2aebf0f6954ee7d6c78ae9.setIcon(icon_be31fe8f966ba7a7c8c07387f6762b72);\n            \n    \n            var marker_61cc42c71bdb42dc9e1b6a3de7a01ab9 = L.marker(\n                [31.254, -110.865],\n                {\n}\n            ).addTo(marker_cluster_d3037daef370d39c235bb1419d7e7c4f);\n        \n    \n            var icon_5b7d6cfcc37704803b56086676f4949b = L.AwesomeMarkers.icon(\n                {\n  &quot;markerColor&quot;: &quot;red&quot;,\n  &quot;iconColor&quot;: &quot;white&quot;,\n  &quot;icon&quot;: &quot;info-sign&quot;,\n  &quot;prefix&quot;: &quot;glyphicon&quot;,\n  &quot;extraClasses&quot;: &quot;fa-rotate-0&quot;,\n}\n            );\n        \n    \n        var popup_1358616e9aa7f40382ba8ed3858faad5 = L.popup({\n  &quot;maxWidth&quot;: &quot;100%&quot;,\n});\n\n        \n            \n                var html_30581cba3694b3684658d5a94c554661 = $(`&lt;div id=&quot;html_30581cba3694b3684658d5a94c554661&quot; style=&quot;width: 100.0%; height: 100.0%;&quot;&gt;Launch Site 4 - Failed&lt;/div&gt;`)[0];\n                popup_1358616e9aa7f40382ba8ed3858faad5.setContent(html_30581cba3694b3684658d5a94c554661);\n            \n        \n\n        marker_61cc42c71bdb42dc9e1b6a3de7a01ab9.bindPopup(popup_1358616e9aa7f40382ba8ed3858faad5)\n        ;\n\n        \n    \n    \n                marker_61cc42c71bdb42dc9e1b6a3de7a01ab9.setIcon(icon_5b7d6cfcc37704803b56086676f4949b);\n            \n    \n            marker_cluster_d3037daef370d39c235bb1419d7e7c4f.addTo(map_bb4b96da1d6df6099ab2c373e0b5df5a);\n        \n    \n            tile_layer_05f7a2072e74bced898ea9efebba25eb.addTo(map_bb4b96da1d6df6099ab2c373e0b5df5a);\n        \n    \n                marker_8c3d65ce90438c951e33b3d830bc8cd7.setIcon(icon_3fcfd202f78b12fd89822d8b1f7c0aec);\n            \n    \n                marker_c843e02bd72d9e3f23c39abbe39e9776.setIcon(icon_f2eedc2a96157e86844dc764623ab784);\n            \n    \n                marker_1c33b7772b2aebf0f6954ee7d6c78ae9.setIcon(icon_be31fe8f966ba7a7c8c07387f6762b72);\n            \n    \n                marker_61cc42c71bdb42dc9e1b6a3de7a01ab9.setIcon(icon_5b7d6cfcc37704803b56086676f4949b);\n            \n    \n            marker_cluster_d3037daef370d39c235bb1419d7e7c4f.addTo(map_bb4b96da1d6df6099ab2c373e0b5df5a);\n        \n    \n            var poly_line_ac660a1b7711ab42549e9cb944de8835 = L.polyline(\n                [[28.56342, -80.57674], [28.56342, -80.56756]],\n                {&quot;bubblingMouseEvents&quot;: true, &quot;color&quot;: &quot;#3388ff&quot;, &quot;dashArray&quot;: null, &quot;dashOffset&quot;: null, &quot;fill&quot;: false, &quot;fillColor&quot;: &quot;#3388ff&quot;, &quot;fillOpacity&quot;: 0.2, &quot;fillRule&quot;: &quot;evenodd&quot;, &quot;lineCap&quot;: &quot;round&quot;, &quot;lineJoin&quot;: &quot;round&quot;, &quot;noClip&quot;: false, &quot;opacity&quot;: 1.0, &quot;smoothFactor&quot;: 1.0, &quot;stroke&quot;: true, &quot;weight&quot;: 1}\n            ).addTo(map_bb4b96da1d6df6099ab2c373e0b5df5a);\n        \n    \n            var marker_7a2bdddd85370e42f2cf7708ba46dee9 = L.marker(\n                [28.56342, -80.56794],\n                {\n}\n            ).addTo(map_bb4b96da1d6df6099ab2c373e0b5df5a);\n        \n    \n            var div_icon_9fea440cbd32091de23bc9ce3224fb95 = L.divIcon({\n  &quot;html&quot;: &quot;\\u003cdiv style=\\&quot;font-size: 12; color:#d35400;\\&quot;\\u003e\\u003cb\\u003e      0.90 KM\\u003c/b\\u003e\\u003c/div\\u003e&quot;,\n  &quot;iconSize&quot;: [20, 20],\n  &quot;iconAnchor&quot;: [0, 0],\n  &quot;className&quot;: &quot;empty&quot;,\n});\n        \n    \n                marker_7a2bdddd85370e42f2cf7708ba46dee9.setIcon(div_icon_9fea440cbd32091de23bc9ce3224fb95);\n            \n    \n            tile_layer_05f7a2072e74bced898ea9efebba25eb.addTo(map_bb4b96da1d6df6099ab2c373e0b5df5a);\n        \n    \n                marker_8c3d65ce90438c951e33b3d830bc8cd7.setIcon(icon_3fcfd202f78b12fd89822d8b1f7c0aec);\n            \n    \n                marker_c843e02bd72d9e3f23c39abbe39e9776.setIcon(icon_f2eedc2a96157e86844dc764623ab784);\n            \n    \n                marker_1c33b7772b2aebf0f6954ee7d6c78ae9.setIcon(icon_be31fe8f966ba7a7c8c07387f6762b72);\n            \n    \n                marker_61cc42c71bdb42dc9e1b6a3de7a01ab9.setIcon(icon_5b7d6cfcc37704803b56086676f4949b);\n            \n    \n            marker_cluster_d3037daef370d39c235bb1419d7e7c4f.addTo(map_bb4b96da1d6df6099ab2c373e0b5df5a);\n        \n    \n                marker_7a2bdddd85370e42f2cf7708ba46dee9.setIcon(div_icon_9fea440cbd32091de23bc9ce3224fb95);\n            \n&lt;/script&gt;\n&lt;/html&gt;\" style=\"position:absolute;width:100%;height:100%;left:0;top:0;border:none !important;\" allowfullscreen webkitallowfullscreen mozallowfullscreen></iframe></div></div>"
          },
          "metadata": {}
        }
      ],
      "execution_count": 25
    },
    {
      "cell_type": "markdown",
      "source": "Your updated map with distance line should look like the following screenshot:\n",
      "metadata": {}
    },
    {
      "cell_type": "markdown",
      "source": "<center>\n    <img src=\"https://cf-courses-data.s3.us.cloud-object-storage.appdomain.cloud/IBM-DS0321EN-SkillsNetwork/labs/module_3/images/launch_site_marker_distance.png\">\n</center>\n",
      "metadata": {}
    },
    {
      "cell_type": "markdown",
      "source": "*TODO:* Similarly, you can draw a line betwee a launch site to its closest city, railway, highway, etc. You need to use `MousePosition` to find the their coordinates on the map first\n",
      "metadata": {}
    },
    {
      "cell_type": "markdown",
      "source": "A railway map symbol may look like this:\n",
      "metadata": {}
    },
    {
      "cell_type": "markdown",
      "source": "<center>\n    <img src=\"https://cf-courses-data.s3.us.cloud-object-storage.appdomain.cloud/IBM-DS0321EN-SkillsNetwork/labs/module_3/images/railway.png\">\n</center>\n",
      "metadata": {}
    },
    {
      "cell_type": "markdown",
      "source": "A highway map symbol may look like this:\n",
      "metadata": {}
    },
    {
      "cell_type": "markdown",
      "source": "<center>\n    <img src=\"https://cf-courses-data.s3.us.cloud-object-storage.appdomain.cloud/IBM-DS0321EN-SkillsNetwork/labs/module_3/images/highway.png\">\n</center>\n",
      "metadata": {}
    },
    {
      "cell_type": "markdown",
      "source": "A city map symbol may look like this:\n",
      "metadata": {}
    },
    {
      "cell_type": "markdown",
      "source": "<center>\n    <img src=\"https://cf-courses-data.s3.us.cloud-object-storage.appdomain.cloud/IBM-DS0321EN-SkillsNetwork/labs/module_3/images/city.png\">\n</center>\n",
      "metadata": {}
    },
    {
      "cell_type": "code",
      "source": "# Create a marker with distance to a closest city, railway, highway, etc.\n# Draw a line between the marker to the launch site\n",
      "metadata": {},
      "outputs": [],
      "execution_count": null
    },
    {
      "cell_type": "code",
      "source": "import folium\nfrom folium.features import DivIcon\nfrom math import radians, cos, sin, sqrt, atan2\n\n# Haversine formula to calculate distance in km\ndef calculate_distance(lat1, lon1, lat2, lon2):\n    R = 6371.0  # Earth radius in kilometers\n\n    lat1_rad = radians(lat1)\n    lon1_rad = radians(lon1)\n    lat2_rad = radians(lat2)\n    lon2_rad = radians(lon2)\n\n    dlon = lon2_rad - lon1_rad\n    dlat = lat2_rad - lat1_rad\n\n    a = sin(dlat / 2)**2 + cos(lat1_rad) * cos(lat2_rad) * sin(dlon / 2)**2\n    c = 2 * atan2(sqrt(a), sqrt(1 - a))\n\n    distance = R * c\n    return distance\n\n# Coordinates of the launch site (example)\nlaunch_site = (28.563197, -80.576820)\n\n# Coordinates of the closest feature (example)\nclosest_feature = (28.570000, -80.580000)\n\n# Calculate distance\ndistance = calculate_distance(launch_site[0], launch_site[1], closest_feature[0], closest_feature[1])\n\n# Initialize map centered around launch site\nsite_map = folium.Map(location=launch_site, zoom_start=12)\n\n# Add launch site marker\nfolium.Marker(launch_site, popup='Launch Site').add_to(site_map)\n\n# Add marker for closest feature with distance label\ndistance_marker = folium.Marker(\n    closest_feature,\n    icon=DivIcon(\n        icon_size=(150,36),\n        icon_anchor=(0,0),\n        html=f'<div style=\"font-size: 12pt; color:#d35400;\"><b>{distance:.2f} KM</b></div>'\n    )\n)\ndistance_marker.add_to(site_map)\n\n# Draw line connecting launch site and closest feature\nfolium.PolyLine(locations=[launch_site, closest_feature], color='blue').add_to(site_map)\n\n# Display map\nsite_map",
      "metadata": {
        "trusted": true
      },
      "outputs": [
        {
          "execution_count": 29,
          "output_type": "execute_result",
          "data": {
            "text/plain": "<folium.folium.Map at 0x5edc558>",
            "text/html": "<div style=\"width:100%;\"><div style=\"position:relative;width:100%;height:0;padding-bottom:60%;\"><span style=\"color:#565656\">Make this Notebook Trusted to load map: File -> Trust Notebook</span><iframe srcdoc=\"&lt;!DOCTYPE html&gt;\n&lt;html&gt;\n&lt;head&gt;\n    \n    &lt;meta http-equiv=&quot;content-type&quot; content=&quot;text/html; charset=UTF-8&quot; /&gt;\n    &lt;script src=&quot;https://cdn.jsdelivr.net/npm/leaflet@1.9.3/dist/leaflet.js&quot;&gt;&lt;/script&gt;\n    &lt;script src=&quot;https://code.jquery.com/jquery-3.7.1.min.js&quot;&gt;&lt;/script&gt;\n    &lt;script src=&quot;https://cdn.jsdelivr.net/npm/bootstrap@5.2.2/dist/js/bootstrap.bundle.min.js&quot;&gt;&lt;/script&gt;\n    &lt;script src=&quot;https://cdnjs.cloudflare.com/ajax/libs/Leaflet.awesome-markers/2.0.2/leaflet.awesome-markers.js&quot;&gt;&lt;/script&gt;\n    &lt;link rel=&quot;stylesheet&quot; href=&quot;https://cdn.jsdelivr.net/npm/leaflet@1.9.3/dist/leaflet.css&quot;/&gt;\n    &lt;link rel=&quot;stylesheet&quot; href=&quot;https://cdn.jsdelivr.net/npm/bootstrap@5.2.2/dist/css/bootstrap.min.css&quot;/&gt;\n    &lt;link rel=&quot;stylesheet&quot; href=&quot;https://netdna.bootstrapcdn.com/bootstrap/3.0.0/css/bootstrap-glyphicons.css&quot;/&gt;\n    &lt;link rel=&quot;stylesheet&quot; href=&quot;https://cdn.jsdelivr.net/npm/@fortawesome/fontawesome-free@6.2.0/css/all.min.css&quot;/&gt;\n    &lt;link rel=&quot;stylesheet&quot; href=&quot;https://cdnjs.cloudflare.com/ajax/libs/Leaflet.awesome-markers/2.0.2/leaflet.awesome-markers.css&quot;/&gt;\n    &lt;link rel=&quot;stylesheet&quot; href=&quot;https://cdn.jsdelivr.net/gh/python-visualization/folium/folium/templates/leaflet.awesome.rotate.min.css&quot;/&gt;\n    \n            &lt;meta name=&quot;viewport&quot; content=&quot;width=device-width,\n                initial-scale=1.0, maximum-scale=1.0, user-scalable=no&quot; /&gt;\n            &lt;style&gt;\n                #map_e9fe23409abb38990f842552dc210ac6 {\n                    position: relative;\n                    width: 100.0%;\n                    height: 100.0%;\n                    left: 0.0%;\n                    top: 0.0%;\n                }\n                .leaflet-container { font-size: 1rem; }\n            &lt;/style&gt;\n\n            &lt;style&gt;html, body {\n                width: 100%;\n                height: 100%;\n                margin: 0;\n                padding: 0;\n            }\n            &lt;/style&gt;\n\n            &lt;style&gt;#map {\n                position:absolute;\n                top:0;\n                bottom:0;\n                right:0;\n                left:0;\n                }\n            &lt;/style&gt;\n\n            &lt;script&gt;\n                L_NO_TOUCH = false;\n                L_DISABLE_3D = false;\n            &lt;/script&gt;\n\n        \n&lt;/head&gt;\n&lt;body&gt;\n    \n    \n            &lt;div class=&quot;folium-map&quot; id=&quot;map_e9fe23409abb38990f842552dc210ac6&quot; &gt;&lt;/div&gt;\n        \n&lt;/body&gt;\n&lt;script&gt;\n    \n    \n            var map_e9fe23409abb38990f842552dc210ac6 = L.map(\n                &quot;map_e9fe23409abb38990f842552dc210ac6&quot;,\n                {\n                    center: [28.563197, -80.57682],\n                    crs: L.CRS.EPSG3857,\n                    ...{\n  &quot;zoom&quot;: 12,\n  &quot;zoomControl&quot;: true,\n  &quot;preferCanvas&quot;: false,\n}\n\n                }\n            );\n\n            \n\n        \n    \n            var tile_layer_e67d302f58636b7aed18f9dcc23150df = L.tileLayer(\n                &quot;https://tile.openstreetmap.org/{z}/{x}/{y}.png&quot;,\n                {\n  &quot;minZoom&quot;: 0,\n  &quot;maxZoom&quot;: 19,\n  &quot;maxNativeZoom&quot;: 19,\n  &quot;noWrap&quot;: false,\n  &quot;attribution&quot;: &quot;\\u0026copy; \\u003ca href=\\&quot;https://www.openstreetmap.org/copyright\\&quot;\\u003eOpenStreetMap\\u003c/a\\u003e contributors&quot;,\n  &quot;subdomains&quot;: &quot;abc&quot;,\n  &quot;detectRetina&quot;: false,\n  &quot;tms&quot;: false,\n  &quot;opacity&quot;: 1,\n}\n\n            );\n        \n    \n            tile_layer_e67d302f58636b7aed18f9dcc23150df.addTo(map_e9fe23409abb38990f842552dc210ac6);\n        \n    \n            var marker_9cb128602b289727a8efd33c05f030f0 = L.marker(\n                [28.563197, -80.57682],\n                {\n}\n            ).addTo(map_e9fe23409abb38990f842552dc210ac6);\n        \n    \n        var popup_529ddeb1fef33ddb14a56f4c57e0fac6 = L.popup({\n  &quot;maxWidth&quot;: &quot;100%&quot;,\n});\n\n        \n            \n                var html_607c03596a386692ef3c6a1ddf0b228c = $(`&lt;div id=&quot;html_607c03596a386692ef3c6a1ddf0b228c&quot; style=&quot;width: 100.0%; height: 100.0%;&quot;&gt;Launch Site&lt;/div&gt;`)[0];\n                popup_529ddeb1fef33ddb14a56f4c57e0fac6.setContent(html_607c03596a386692ef3c6a1ddf0b228c);\n            \n        \n\n        marker_9cb128602b289727a8efd33c05f030f0.bindPopup(popup_529ddeb1fef33ddb14a56f4c57e0fac6)\n        ;\n\n        \n    \n    \n            var marker_34fb822772814f358a78eb5fde02b130 = L.marker(\n                [28.57, -80.58],\n                {\n}\n            ).addTo(map_e9fe23409abb38990f842552dc210ac6);\n        \n    \n            var div_icon_bff3c351d3259c06275272a19e2b73e7 = L.divIcon({\n  &quot;html&quot;: &quot;\\u003cdiv style=\\&quot;font-size: 12pt; color:#d35400;\\&quot;\\u003e\\u003cb\\u003e0.82 KM\\u003c/b\\u003e\\u003c/div\\u003e&quot;,\n  &quot;iconSize&quot;: [150, 36],\n  &quot;iconAnchor&quot;: [0, 0],\n  &quot;className&quot;: &quot;empty&quot;,\n});\n        \n    \n                marker_34fb822772814f358a78eb5fde02b130.setIcon(div_icon_bff3c351d3259c06275272a19e2b73e7);\n            \n    \n            var poly_line_f1070f76c4039bb79f9b9f07d73edb6e = L.polyline(\n                [[28.563197, -80.57682], [28.57, -80.58]],\n                {&quot;bubblingMouseEvents&quot;: true, &quot;color&quot;: &quot;blue&quot;, &quot;dashArray&quot;: null, &quot;dashOffset&quot;: null, &quot;fill&quot;: false, &quot;fillColor&quot;: &quot;blue&quot;, &quot;fillOpacity&quot;: 0.2, &quot;fillRule&quot;: &quot;evenodd&quot;, &quot;lineCap&quot;: &quot;round&quot;, &quot;lineJoin&quot;: &quot;round&quot;, &quot;noClip&quot;: false, &quot;opacity&quot;: 1.0, &quot;smoothFactor&quot;: 1.0, &quot;stroke&quot;: true, &quot;weight&quot;: 3}\n            ).addTo(map_e9fe23409abb38990f842552dc210ac6);\n        \n&lt;/script&gt;\n&lt;/html&gt;\" style=\"position:absolute;width:100%;height:100%;left:0;top:0;border:none !important;\" allowfullscreen webkitallowfullscreen mozallowfullscreen></iframe></div></div>"
          },
          "metadata": {}
        }
      ],
      "execution_count": 29
    },
    {
      "cell_type": "code",
      "source": "import folium\nfrom folium.features import DivIcon\nfrom math import radians, cos, sin, sqrt, atan2\n\n# Haversine formula to calculate distance in km\ndef calculate_distance(lat1, lon1, lat2, lon2):\n    R = 6371.0  # Earth radius in kilometers\n\n    lat1_rad = radians(lat1)\n    lon1_rad = radians(lon1)\n    lat2_rad = radians(lat2)\n    lon2_rad = radians(lon2)\n\n    dlon = lon2_rad - lon1_rad\n    dlat = lat2_rad - lat1_rad\n\n    a = sin(dlat / 2)**2 + cos(lat1_rad) * cos(lat2_rad) * sin(dlon / 2)**2\n    c = 2 * atan2(sqrt(a), sqrt(1 - a))\n\n    distance = R * c\n    return distance\n\n# Coordinates of launch site\nlaunch_site = (28.563197, -80.576820)\n\n# Coordinates of closest feature (example)\nclosest_feature = (28.570000, -80.580000)\n\n# Calculate distance\ndistance = calculate_distance(launch_site[0], launch_site[1], closest_feature[0], closest_feature[1])\n\n# Initialize the map centered on launch site\nsite_map = folium.Map(location=launch_site, zoom_start=12)\n\n# Add launch site marker\nfolium.Marker(launch_site, popup='Launch Site').add_to(site_map)\n\n# Add closest feature marker with distance label\ndistance_marker = folium.Marker(\n    closest_feature,\n    icon=DivIcon(\n        icon_size=(150,36),\n        icon_anchor=(0,0),\n        html=f'<div style=\"font-size: 12pt; color:#d35400;\"><b>{distance:.2f} KM</b></div>'\n    )\n)\ndistance_marker.add_to(site_map)\n\n# Draw a line between launch site and closest feature\nfolium.PolyLine(locations=[launch_site, closest_feature], color='blue', weight=2.5, opacity=1).add_to(site_map)\n\n# Display the map\nsite_map\n",
      "metadata": {
        "trusted": true,
        "scrolled": true
      },
      "outputs": [
        {
          "execution_count": 30,
          "output_type": "execute_result",
          "data": {
            "text/plain": "<folium.folium.Map at 0x5ac9a70>",
            "text/html": "<div style=\"width:100%;\"><div style=\"position:relative;width:100%;height:0;padding-bottom:60%;\"><span style=\"color:#565656\">Make this Notebook Trusted to load map: File -> Trust Notebook</span><iframe srcdoc=\"&lt;!DOCTYPE html&gt;\n&lt;html&gt;\n&lt;head&gt;\n    \n    &lt;meta http-equiv=&quot;content-type&quot; content=&quot;text/html; charset=UTF-8&quot; /&gt;\n    &lt;script src=&quot;https://cdn.jsdelivr.net/npm/leaflet@1.9.3/dist/leaflet.js&quot;&gt;&lt;/script&gt;\n    &lt;script src=&quot;https://code.jquery.com/jquery-3.7.1.min.js&quot;&gt;&lt;/script&gt;\n    &lt;script src=&quot;https://cdn.jsdelivr.net/npm/bootstrap@5.2.2/dist/js/bootstrap.bundle.min.js&quot;&gt;&lt;/script&gt;\n    &lt;script src=&quot;https://cdnjs.cloudflare.com/ajax/libs/Leaflet.awesome-markers/2.0.2/leaflet.awesome-markers.js&quot;&gt;&lt;/script&gt;\n    &lt;link rel=&quot;stylesheet&quot; href=&quot;https://cdn.jsdelivr.net/npm/leaflet@1.9.3/dist/leaflet.css&quot;/&gt;\n    &lt;link rel=&quot;stylesheet&quot; href=&quot;https://cdn.jsdelivr.net/npm/bootstrap@5.2.2/dist/css/bootstrap.min.css&quot;/&gt;\n    &lt;link rel=&quot;stylesheet&quot; href=&quot;https://netdna.bootstrapcdn.com/bootstrap/3.0.0/css/bootstrap-glyphicons.css&quot;/&gt;\n    &lt;link rel=&quot;stylesheet&quot; href=&quot;https://cdn.jsdelivr.net/npm/@fortawesome/fontawesome-free@6.2.0/css/all.min.css&quot;/&gt;\n    &lt;link rel=&quot;stylesheet&quot; href=&quot;https://cdnjs.cloudflare.com/ajax/libs/Leaflet.awesome-markers/2.0.2/leaflet.awesome-markers.css&quot;/&gt;\n    &lt;link rel=&quot;stylesheet&quot; href=&quot;https://cdn.jsdelivr.net/gh/python-visualization/folium/folium/templates/leaflet.awesome.rotate.min.css&quot;/&gt;\n    \n            &lt;meta name=&quot;viewport&quot; content=&quot;width=device-width,\n                initial-scale=1.0, maximum-scale=1.0, user-scalable=no&quot; /&gt;\n            &lt;style&gt;\n                #map_17bdb904d5e5114d2a905c8af8ac06b7 {\n                    position: relative;\n                    width: 100.0%;\n                    height: 100.0%;\n                    left: 0.0%;\n                    top: 0.0%;\n                }\n                .leaflet-container { font-size: 1rem; }\n            &lt;/style&gt;\n\n            &lt;style&gt;html, body {\n                width: 100%;\n                height: 100%;\n                margin: 0;\n                padding: 0;\n            }\n            &lt;/style&gt;\n\n            &lt;style&gt;#map {\n                position:absolute;\n                top:0;\n                bottom:0;\n                right:0;\n                left:0;\n                }\n            &lt;/style&gt;\n\n            &lt;script&gt;\n                L_NO_TOUCH = false;\n                L_DISABLE_3D = false;\n            &lt;/script&gt;\n\n        \n&lt;/head&gt;\n&lt;body&gt;\n    \n    \n            &lt;div class=&quot;folium-map&quot; id=&quot;map_17bdb904d5e5114d2a905c8af8ac06b7&quot; &gt;&lt;/div&gt;\n        \n&lt;/body&gt;\n&lt;script&gt;\n    \n    \n            var map_17bdb904d5e5114d2a905c8af8ac06b7 = L.map(\n                &quot;map_17bdb904d5e5114d2a905c8af8ac06b7&quot;,\n                {\n                    center: [28.563197, -80.57682],\n                    crs: L.CRS.EPSG3857,\n                    ...{\n  &quot;zoom&quot;: 12,\n  &quot;zoomControl&quot;: true,\n  &quot;preferCanvas&quot;: false,\n}\n\n                }\n            );\n\n            \n\n        \n    \n            var tile_layer_c77970cc59978621279cd39815a0e9be = L.tileLayer(\n                &quot;https://tile.openstreetmap.org/{z}/{x}/{y}.png&quot;,\n                {\n  &quot;minZoom&quot;: 0,\n  &quot;maxZoom&quot;: 19,\n  &quot;maxNativeZoom&quot;: 19,\n  &quot;noWrap&quot;: false,\n  &quot;attribution&quot;: &quot;\\u0026copy; \\u003ca href=\\&quot;https://www.openstreetmap.org/copyright\\&quot;\\u003eOpenStreetMap\\u003c/a\\u003e contributors&quot;,\n  &quot;subdomains&quot;: &quot;abc&quot;,\n  &quot;detectRetina&quot;: false,\n  &quot;tms&quot;: false,\n  &quot;opacity&quot;: 1,\n}\n\n            );\n        \n    \n            tile_layer_c77970cc59978621279cd39815a0e9be.addTo(map_17bdb904d5e5114d2a905c8af8ac06b7);\n        \n    \n            var marker_91b5e7f517859693a1207de2a24b1ffe = L.marker(\n                [28.563197, -80.57682],\n                {\n}\n            ).addTo(map_17bdb904d5e5114d2a905c8af8ac06b7);\n        \n    \n        var popup_0312d1ab6c9e38413c6a9a8134c53a4b = L.popup({\n  &quot;maxWidth&quot;: &quot;100%&quot;,\n});\n\n        \n            \n                var html_21b6c7d5e37d6a328ed842ba39e78ee6 = $(`&lt;div id=&quot;html_21b6c7d5e37d6a328ed842ba39e78ee6&quot; style=&quot;width: 100.0%; height: 100.0%;&quot;&gt;Launch Site&lt;/div&gt;`)[0];\n                popup_0312d1ab6c9e38413c6a9a8134c53a4b.setContent(html_21b6c7d5e37d6a328ed842ba39e78ee6);\n            \n        \n\n        marker_91b5e7f517859693a1207de2a24b1ffe.bindPopup(popup_0312d1ab6c9e38413c6a9a8134c53a4b)\n        ;\n\n        \n    \n    \n            var marker_ca940756c01b18265a72f181dbb39935 = L.marker(\n                [28.57, -80.58],\n                {\n}\n            ).addTo(map_17bdb904d5e5114d2a905c8af8ac06b7);\n        \n    \n            var div_icon_9a013487724708317ddb085aefa682a4 = L.divIcon({\n  &quot;html&quot;: &quot;\\u003cdiv style=\\&quot;font-size: 12pt; color:#d35400;\\&quot;\\u003e\\u003cb\\u003e0.82 KM\\u003c/b\\u003e\\u003c/div\\u003e&quot;,\n  &quot;iconSize&quot;: [150, 36],\n  &quot;iconAnchor&quot;: [0, 0],\n  &quot;className&quot;: &quot;empty&quot;,\n});\n        \n    \n                marker_ca940756c01b18265a72f181dbb39935.setIcon(div_icon_9a013487724708317ddb085aefa682a4);\n            \n    \n            var poly_line_a11858d1d7824e019d53b395dc21987b = L.polyline(\n                [[28.563197, -80.57682], [28.57, -80.58]],\n                {&quot;bubblingMouseEvents&quot;: true, &quot;color&quot;: &quot;blue&quot;, &quot;dashArray&quot;: null, &quot;dashOffset&quot;: null, &quot;fill&quot;: false, &quot;fillColor&quot;: &quot;blue&quot;, &quot;fillOpacity&quot;: 0.2, &quot;fillRule&quot;: &quot;evenodd&quot;, &quot;lineCap&quot;: &quot;round&quot;, &quot;lineJoin&quot;: &quot;round&quot;, &quot;noClip&quot;: false, &quot;opacity&quot;: 1, &quot;smoothFactor&quot;: 1.0, &quot;stroke&quot;: true, &quot;weight&quot;: 2.5}\n            ).addTo(map_17bdb904d5e5114d2a905c8af8ac06b7);\n        \n&lt;/script&gt;\n&lt;/html&gt;\" style=\"position:absolute;width:100%;height:100%;left:0;top:0;border:none !important;\" allowfullscreen webkitallowfullscreen mozallowfullscreen></iframe></div></div>"
          },
          "metadata": {}
        }
      ],
      "execution_count": 30
    },
    {
      "cell_type": "markdown",
      "source": "After you plot distance lines to the proximities, you can answer the following questions easily:\n\n*   Are launch sites in close proximity to railways?\n*   Are launch sites in close proximity to highways?\n*   Are launch sites in close proximity to coastline?\n*   Do launch sites keep certain distance away from cities?\n\nAlso please try to explain your findings.\n",
      "metadata": {}
    },
    {
      "cell_type": "markdown",
      "source": "# Next Steps:\n\nNow you have discovered many interesting insights related to the launch sites' location using folium, in a very interactive way. Next, you will need to build a dashboard using Ploty Dash on detailed launch records.\n",
      "metadata": {}
    },
    {
      "cell_type": "markdown",
      "source": "## Authors\n",
      "metadata": {}
    },
    {
      "cell_type": "markdown",
      "source": "[Pratiksha Verma](https://www.linkedin.com/in/pratiksha-verma-6487561b1/)\n",
      "metadata": {}
    },
    {
      "cell_type": "markdown",
      "source": "<!--## Change Log--!>\n",
      "metadata": {}
    },
    {
      "cell_type": "markdown",
      "source": "<!--| Date (YYYY-MM-DD) | Version | Changed By      | Change Description      |\n| ----------------- | ------- | -------------   | ----------------------- |\n| 2022-11-09        | 1.0     | Pratiksha Verma | Converted initial version to Jupyterlite|--!>\n",
      "metadata": {}
    },
    {
      "cell_type": "markdown",
      "source": "### <h3 align=\"center\"> IBM Corporation 2022. All rights reserved. <h3/>\n",
      "metadata": {}
    }
  ]
}